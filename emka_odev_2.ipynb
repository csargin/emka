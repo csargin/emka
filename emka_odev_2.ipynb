{
  "nbformat": 4,
  "nbformat_minor": 0,
  "metadata": {
    "colab": {
      "provenance": [],
      "collapsed_sections": [
        "Pp9ekSKl6IaI",
        "ItEuQOAh6Q-n"
      ]
    },
    "kernelspec": {
      "name": "python3",
      "display_name": "Python 3"
    },
    "language_info": {
      "name": "python"
    }
  },
  "cells": [
    {
      "cell_type": "markdown",
      "source": [
        "# Ödev 1"
      ],
      "metadata": {
        "id": "Pp9ekSKl6IaI"
      }
    },
    {
      "cell_type": "markdown",
      "source": [
        "1) Manuel değerleri el ile girerek 3 boyutlu bir array oluşturup bir değişkene atayın. Ardından 3 boyutlu olup olmadığına bakmak için dimension'ını kontrol edin\n",
        "\n",
        "2) 34, 40, 46, 52... 112 şeklinde devam eden 1 boyutlu bir array oluşturun.\n",
        "\n",
        "3) 50-500 arasında lineer artış gösteren 91 tane tam sayıdan oluşan bir array oluşturun.(dtype'ı int olsun)\n",
        "\n",
        "4) 100(10**2) ile 10000(10**5) arasında logaritmik artış gösteren 8 sayıdan oluşan bir array oluşturun.\n",
        "\n",
        "5) 0-8 tam arasındaki ardışık tam sayılardan oluşan(0 ve 8 dahil toplam \n",
        "9 değer) 3x3 shape'inde bir matris oluşturun.\n",
        "\n",
        "6) 6x6 formatında bir sıfır matrisi oluşturun. (dtype'ı int olsun)\n",
        "\n",
        "7) 4x4 formatında bir bir matrisi oluşturun. (dtype'ı int olsun)\n",
        "\n",
        "8) 8x8 formatında bir birim matris oluşturun. (Sadece sol köşegeni 1 geri kalan değerleri 0 olan matris'e birim matris deniyor.) (dtype'ı int olsun)\n",
        "\n",
        "9) 5x5 formatında bir köşegen matrisi oluşturun (Sadece sol üstten sağ alta doğru olan köşegendeki değerleri 3 olsun diğer bütün değerleri 0) (Bunu henüz görmediniz ama birim matrise benziyor, sadece köşegen değerleri 1 değil 3 olacak. Bir şeyler düşünün)\n",
        "\n",
        "10) np.random modülünden uygun fonksiyonu kullanarak 0-1 arasında toplam 6 tane değerden oluşan 1 boyutlu bir array oluşturun.\n",
        "\n",
        "11) np.random modülünden uygun fonksiyonu kullanarak 50-100 arasındaki(50 ve 100 dahil) tam sayılardan 10 tanesiyle oluşan (5,2) shape'inde bir array oluşturun. Ardından bu arrayin shape'ini kontrol edin.\n",
        "\n",
        "12) np.random modülünden uygun fonksiyonu kullanarak 100-1000(1000 dahil değil) arasındaki tam sayılardan rastgele 50 tanesinden oluşan (2,5,5) shape'inde 3 boyutlu bir array oluşturun. Ardından bu array'in dimension'ını(boyutunu) ve shape'ini kontrol edin.\n",
        "\n",
        "13) np.random modülünden uygun fonksiyonu kullanarak 0-100(0 ve 100 dahil) arasındaki tam sayılardan 10 tane seçerek bir array oluşturun. Bu array'in maximum, mininmum değerlerine ve bu değerlerin indexlerine bakın.\n",
        "\n",
        "14) np.random modülünden uygun fonksiyonu kullanarak 300-500(300 ve 500 dahil) arasındaki tam sayılardan 20 tane seçerek (2,2,5) shape'inde 3 boyutlu bir array oluşturun. Ardından bu array'in içindeki 20 tam sayı arasından maximum ve minimum değerleri manuel olarak tespit edin ve indexleme yaparak çekmeye çalışın.\n",
        "\n",
        "15) 0-50(50 dahil) arasındaki ardışık tam sayılardan oluşan bir array oluşturun. Ardından bu arrayin 20. ve 35. indexleri arasındaki değerleri 500'e eşitleyin ve yeni oluşan array'i ekrana yazdırarak broadcasting işleminin yapılıp yapılmadığını test edin."
      ],
      "metadata": {
        "id": "h46bIa4oGXlJ"
      }
    },
    {
      "cell_type": "code",
      "source": [
        "import numpy as np"
      ],
      "metadata": {
        "id": "lN0DrSiuR1fN"
      },
      "execution_count": null,
      "outputs": []
    },
    {
      "cell_type": "code",
      "source": [
        "# 1) Manuel değerleri el ile girerek 3 boyutlu bir array oluşturup bir değişkene atayın. Ardından 3 boyutlu olup olmadığına bakmak için dimension'ını kontrol edin\n",
        "\n",
        "arry = np.array([[[0,1,2],[3,4,5],[6,7,8]]])\n",
        "print(arry.ndim)\n",
        "print(arry.shape)"
      ],
      "metadata": {
        "colab": {
          "base_uri": "https://localhost:8080/"
        },
        "id": "huBAuoJxG1aX",
        "outputId": "f47f7644-96e1-49bc-dec0-b33862f7a488"
      },
      "execution_count": null,
      "outputs": [
        {
          "output_type": "stream",
          "name": "stdout",
          "text": [
            "3\n",
            "(1, 3, 3)\n"
          ]
        }
      ]
    },
    {
      "cell_type": "code",
      "source": [
        "# 2) 34, 40, 46, 52... 112 şeklinde devam eden 1 boyutlu bir array oluşturun.\n",
        "\n",
        "arry = np.arange(34,113,6)\n",
        "print(arry.ndim)\n",
        "print(arry.shape)"
      ],
      "metadata": {
        "colab": {
          "base_uri": "https://localhost:8080/"
        },
        "id": "d_fUensaRJ_I",
        "outputId": "fc3567c8-42fe-4c96-d6c7-5fac4b131ddb"
      },
      "execution_count": null,
      "outputs": [
        {
          "output_type": "stream",
          "name": "stdout",
          "text": [
            "1\n",
            "(14,)\n"
          ]
        }
      ]
    },
    {
      "cell_type": "code",
      "source": [
        "#3) 50-500 arasında lineer artış gösteren 91 tane tam sayıdan oluşan bir array oluşturun.(dtype'ı int olsun)\n",
        "\n",
        "arry = np.random.default_rng().integers(low=50, high=501, size=391)\n",
        "arry = np.linspace(start=50, stop=500, num=391,  dtype=int)\n",
        "print(arry.ndim)\n",
        "print(arry.shape)\n",
        "print(arry.max)\n",
        "print(arry.min)\n",
        "print(len(arry))"
      ],
      "metadata": {
        "colab": {
          "base_uri": "https://localhost:8080/"
        },
        "id": "k50GGK1oVVi6",
        "outputId": "556a4885-6ef9-475f-cf05-b261bd150fc4"
      },
      "execution_count": null,
      "outputs": [
        {
          "output_type": "stream",
          "name": "stdout",
          "text": [
            "1\n",
            "(391,)\n",
            "<built-in method max of numpy.ndarray object at 0x7f40a4ca1b70>\n",
            "<built-in method min of numpy.ndarray object at 0x7f40a4ca1b70>\n",
            "391\n"
          ]
        }
      ]
    },
    {
      "cell_type": "code",
      "source": [
        "# 4) 100(102) ile 10000(105) arasında logaritmik artış gösteren 8 sayıdan oluşan bir array oluşturun.\n",
        "\n",
        "arry = np.logspace(start=2, stop=4, num=8)\n",
        "print(arry.ndim)\n",
        "print(arry.shape)\n",
        "print(arry)\n",
        "print(len(arry))"
      ],
      "metadata": {
        "colab": {
          "base_uri": "https://localhost:8080/"
        },
        "id": "mvKOGv1haSd3",
        "outputId": "808dc5e1-8f41-4348-b1c1-f7b1bf20ef01"
      },
      "execution_count": null,
      "outputs": [
        {
          "output_type": "stream",
          "name": "stdout",
          "text": [
            "1\n",
            "(8,)\n",
            "[  100.           193.06977289   372.75937203   719.685673\n",
            "  1389.49549437  2682.69579528  5179.47467923 10000.        ]\n",
            "8\n"
          ]
        }
      ]
    },
    {
      "cell_type": "code",
      "source": [
        "# 5) 0-8 tam arasındaki ardışık tam sayılardan oluşan(0 ve 8 dahil toplam 9 değer) 3x3 shape'inde bir matris oluşturun.\n",
        "\n",
        "arry = np.linspace(start=0, stop=8, num=9,  dtype=int).reshape(3,3)\n",
        "print(arry.ndim)\n",
        "print(arry.shape)\n",
        "print(arry)"
      ],
      "metadata": {
        "colab": {
          "base_uri": "https://localhost:8080/"
        },
        "id": "Fr8wSciHcQVB",
        "outputId": "2b546284-978a-477a-9e12-ed5727c97600"
      },
      "execution_count": null,
      "outputs": [
        {
          "output_type": "stream",
          "name": "stdout",
          "text": [
            "2\n",
            "(3, 3)\n",
            "[[0 1 2]\n",
            " [3 4 5]\n",
            " [6 7 8]]\n"
          ]
        }
      ]
    },
    {
      "cell_type": "code",
      "source": [
        "# 6x6 formatında bir sıfır matrisi oluşturun. (dtype'ı int olsun)\n",
        "\n",
        "arry = np.linspace(start=0, stop=35, num=36,  dtype=int).reshape(6,6)\n",
        "print(arry.ndim)\n",
        "print(arry.shape)\n",
        "print(arry)"
      ],
      "metadata": {
        "colab": {
          "base_uri": "https://localhost:8080/"
        },
        "id": "gelGiC4cdZje",
        "outputId": "0a1d2f09-7f5c-4a83-f055-31cd4d00c45c"
      },
      "execution_count": null,
      "outputs": [
        {
          "output_type": "stream",
          "name": "stdout",
          "text": [
            "2\n",
            "(6, 6)\n",
            "[[ 0  1  2  3  4  5]\n",
            " [ 6  7  8  9 10 11]\n",
            " [12 13 14 15 16 17]\n",
            " [18 19 20 21 22 23]\n",
            " [24 25 26 27 28 29]\n",
            " [30 31 32 33 34 35]]\n"
          ]
        }
      ]
    },
    {
      "cell_type": "code",
      "source": [
        "# 7) 4x4 formatında bir bir matrisi oluşturun. (dtype'ı int olsun)\n",
        "\n",
        "arry = np.linspace(start=0, stop=15, num=16,  dtype=int).reshape(4,4)\n",
        "print(arry.ndim)\n",
        "print(arry.shape)\n",
        "print(arry)"
      ],
      "metadata": {
        "colab": {
          "base_uri": "https://localhost:8080/"
        },
        "id": "KghOmaOMd5-a",
        "outputId": "035877f7-92af-4ac6-c863-6be3a53daad0"
      },
      "execution_count": null,
      "outputs": [
        {
          "output_type": "stream",
          "name": "stdout",
          "text": [
            "2\n",
            "(4, 4)\n",
            "[[ 0  1  2  3]\n",
            " [ 4  5  6  7]\n",
            " [ 8  9 10 11]\n",
            " [12 13 14 15]]\n"
          ]
        }
      ]
    },
    {
      "cell_type": "code",
      "source": [
        "# 8) 8x8 formatında bir birim matris oluşturun. (Sadece sol köşegeni 1 geri kalan değerleri 0 olan matris'e birim matris deniyor.) (dtype'ı int olsun)\n",
        "\n",
        "arry = np.identity(8) #np.eye\n",
        "print(arry.ndim)\n",
        "print(arry.shape)\n",
        "print(arry)\n",
        "print(arry.dtype)\n",
        "arry = arry.astype(\"int\")\n",
        "print(arry.dtype)\n",
        "\n"
      ],
      "metadata": {
        "colab": {
          "base_uri": "https://localhost:8080/"
        },
        "id": "d7K3zVNueN3d",
        "outputId": "a9e22b75-f581-438c-b33e-2381fa7b6c82"
      },
      "execution_count": null,
      "outputs": [
        {
          "output_type": "stream",
          "name": "stdout",
          "text": [
            "2\n",
            "(8, 8)\n",
            "[[1. 0. 0. 0. 0. 0. 0. 0.]\n",
            " [0. 1. 0. 0. 0. 0. 0. 0.]\n",
            " [0. 0. 1. 0. 0. 0. 0. 0.]\n",
            " [0. 0. 0. 1. 0. 0. 0. 0.]\n",
            " [0. 0. 0. 0. 1. 0. 0. 0.]\n",
            " [0. 0. 0. 0. 0. 1. 0. 0.]\n",
            " [0. 0. 0. 0. 0. 0. 1. 0.]\n",
            " [0. 0. 0. 0. 0. 0. 0. 1.]]\n",
            "float64\n",
            "int64\n"
          ]
        }
      ]
    },
    {
      "cell_type": "code",
      "source": [
        "# 9) 5x5 formatında bir köşegen matrisi oluşturun (Sadece sol üstten sağ alta doğru olan köşegendeki değerleri 3 olsun diğer bütün değerleri 0) (Bunu henüz görmediniz ama birim matrise benziyor, sadece köşegen değerleri 1 değil 3 olacak. Bir şeyler düşünün)\n",
        "\n",
        "arry = np.identity(5) * 3\n",
        "print(arry.ndim)\n",
        "print(arry.shape)\n",
        "print(arry)"
      ],
      "metadata": {
        "colab": {
          "base_uri": "https://localhost:8080/"
        },
        "id": "6gCgSCucfIX5",
        "outputId": "af83cc3e-10b1-416e-b925-7574b5d6150b"
      },
      "execution_count": null,
      "outputs": [
        {
          "output_type": "stream",
          "name": "stdout",
          "text": [
            "2\n",
            "(5, 5)\n",
            "[[3. 0. 0. 0. 0.]\n",
            " [0. 3. 0. 0. 0.]\n",
            " [0. 0. 3. 0. 0.]\n",
            " [0. 0. 0. 3. 0.]\n",
            " [0. 0. 0. 0. 3.]]\n"
          ]
        }
      ]
    },
    {
      "cell_type": "code",
      "source": [
        "# 10) np.random modülünden uygun fonksiyonu kullanarak 0-1 arasında toplam 6 tane değerden oluşan 1 boyutlu bir array oluşturun.\n",
        "\n",
        "arry = np.random.rand(6)\n",
        "print(arry.ndim)\n",
        "print(arry.shape)\n",
        "print(arry.max())\n",
        "print(arry.min())\n",
        "print(len(arry))\n",
        "print(arry)"
      ],
      "metadata": {
        "colab": {
          "base_uri": "https://localhost:8080/"
        },
        "id": "FkdYS0-nfaFU",
        "outputId": "bbe13036-f56f-405d-d674-1a5c366c603f"
      },
      "execution_count": null,
      "outputs": [
        {
          "output_type": "stream",
          "name": "stdout",
          "text": [
            "1\n",
            "(6,)\n",
            "0.9074622894789531\n",
            "0.018109987874447064\n",
            "6\n",
            "[0.71833139 0.01810999 0.90746229 0.79036799 0.7841565  0.38157784]\n"
          ]
        }
      ]
    },
    {
      "cell_type": "code",
      "source": [
        "# 11) np.random modülünden uygun fonksiyonu kullanarak 50-100 arasındaki(50 ve 100 dahil) tam sayılardan 10 tanesiyle oluşan (5,2) shape'inde bir array oluşturun. Ardından bu arrayin shape'ini kontrol edin.\n",
        "\n",
        "arry = np.random.rand(10).reshape(5,2)*50+50 # np.random.rand(5,2) / randint(50,100,10).reshape(5,2) / randint(50,100,(5,2))\n",
        "print(arry.ndim)\n",
        "print(arry.shape)\n",
        "print(arry)"
      ],
      "metadata": {
        "colab": {
          "base_uri": "https://localhost:8080/"
        },
        "id": "p8_fjNJthxHw",
        "outputId": "f4d47095-93fe-4f02-d781-9177785b3b7b"
      },
      "execution_count": null,
      "outputs": [
        {
          "output_type": "stream",
          "name": "stdout",
          "text": [
            "2\n",
            "(5, 2)\n",
            "[[93.92085461 56.45731291]\n",
            " [54.02452802 63.72689947]\n",
            " [54.89071742 68.77606595]\n",
            " [82.57266438 71.5385131 ]\n",
            " [69.2699156  95.33739984]]\n"
          ]
        }
      ]
    },
    {
      "cell_type": "code",
      "source": [
        "#12) np.random modülünden uygun fonksiyonu kullanarak 100-1000(1000 dahil değil) arasındaki tam sayılardan rastgele 50 tanesinden oluşan (2,5,5) shape'inde 3 boyutlu bir array oluşturun. Ardından bu array'in dimension'ını(boyutunu) ve shape'ini kontrol edin.\n",
        "\n",
        "arry = np.random.rand(50).reshape(2,5,5)*1000+100\n",
        "print(arry.ndim)\n",
        "print(arry.shape)\n",
        "print(arry)"
      ],
      "metadata": {
        "colab": {
          "base_uri": "https://localhost:8080/"
        },
        "id": "3epZOBydjR4P",
        "outputId": "ccb91448-9b73-407d-bbfa-45edcd5406dd"
      },
      "execution_count": null,
      "outputs": [
        {
          "output_type": "stream",
          "name": "stdout",
          "text": [
            "3\n",
            "(2, 5, 5)\n",
            "[[[ 666.4113072   207.57942657  152.81871471  249.45817638 1094.14187126]\n",
            "  [1067.88360691  762.76095066  542.07569975  257.52154929  415.93682019]\n",
            "  [ 147.90675553 1041.68924242  636.83313051  489.29865174  825.45326556]\n",
            "  [ 426.19603707  950.79226742  720.65345619  413.25729285  827.07913485]\n",
            "  [ 265.87716342  868.8513029  1061.03813333  659.75422818  292.67416455]]\n",
            "\n",
            " [[ 994.45368872  233.26692164  822.32184122 1085.31804606  311.84449865]\n",
            "  [ 274.638279   1010.59860031  758.69694387  195.07776077  473.61348823]\n",
            "  [ 585.19257106  331.46762373 1036.75533598  457.78676723  523.8566314 ]\n",
            "  [ 790.45185775  333.29581419  659.53221646  125.33509013  187.12510124]\n",
            "  [ 670.18502004  927.54948744  673.40792273  575.46374416  149.17232513]]]\n"
          ]
        }
      ]
    },
    {
      "cell_type": "code",
      "source": [
        "# 13) np.random modülünden uygun fonksiyonu kullanarak 0-100(0 ve 100 dahil) arasındaki tam sayılardan 10 tane seçerek bir array oluşturun. Bu array'in maximum, mininmum değerlerine ve bu değerlerin indexlerine bakın.\n",
        "\n",
        "arry = np.random.default_rng().integers(low=0, high=101, size=10)\n",
        "print(arry.ndim)\n",
        "print(arry.shape)\n",
        "print(arry.max())\n",
        "print(arry.min())\n",
        "print(len(arry))"
      ],
      "metadata": {
        "colab": {
          "base_uri": "https://localhost:8080/"
        },
        "id": "j_5ZLHM8kK42",
        "outputId": "e23b2e15-9738-4784-d23d-aa11a65eb40c"
      },
      "execution_count": null,
      "outputs": [
        {
          "output_type": "stream",
          "name": "stdout",
          "text": [
            "1\n",
            "(10,)\n",
            "94\n",
            "0\n",
            "10\n"
          ]
        }
      ]
    },
    {
      "cell_type": "code",
      "source": [
        "# 14) np.random modülünden uygun fonksiyonu kullanarak 300-500(300 ve 500 dahil) arasındaki tam sayılardan 20 tane seçerek (2,2,5) shape'inde 3 boyutlu bir array oluşturun. Ardından bu array'in içindeki 20 tam sayı arasından maximum ve minimum değerleri manuel olarak tespit edin ve indexleme yaparak çekmeye çalışın.\n",
        "\n",
        "arry = np.random.default_rng().integers(low=300, high=501, size=20).reshape(2,2,5)\n",
        "#print(arry.ndim)\n",
        "#print(arry.shape)\n",
        "print(arry)\n",
        "\n",
        "min=99999\n",
        "max = 0\n",
        "\n",
        "for i in arry:\n",
        "  for j in i:\n",
        "    for k in j:\n",
        "      if k > max:\n",
        "        max = k\n",
        "      if k < min:\n",
        "        min = k\n",
        "\n",
        "print(np.amin(arry))\n",
        "print(np.amax(arry))\n",
        "print(min)\n",
        "print(max)\n",
        "i_min = np.where(arry == min)\n",
        "i_max = np.where(arry == max)\n",
        "\n",
        "print(f\"index of min : {i_min}\")\n",
        "print(f\"index of max : {i_max}\")\n",
        "\n",
        "print(np.min(arry))\n",
        "print(np.max(arry))\n",
        "\n",
        "print(np.argmin(arry))\n",
        "print(np.argmax(arry))"
      ],
      "metadata": {
        "colab": {
          "base_uri": "https://localhost:8080/"
        },
        "id": "ZsC8m89plJiH",
        "outputId": "aeac33d0-9919-4e9d-c808-be07a9a679e1"
      },
      "execution_count": null,
      "outputs": [
        {
          "output_type": "stream",
          "name": "stdout",
          "text": [
            "[[[310 494 412 311 311]\n",
            "  [498 394 351 465 496]]\n",
            "\n",
            " [[362 434 410 396 301]\n",
            "  [437 427 498 366 389]]]\n",
            "301\n",
            "498\n",
            "301\n",
            "498\n",
            "index of min : (array([1]), array([0]), array([4]))\n",
            "index of max : (array([0, 1]), array([1, 1]), array([0, 2]))\n",
            "301\n",
            "498\n",
            "14\n",
            "5\n"
          ]
        }
      ]
    },
    {
      "cell_type": "code",
      "source": [
        "# 15) 0-50(50 dahil) arasındaki ardışık tam sayılardan oluşan bir array oluşturun. Ardından bu arrayin 20. ve 35. indexleri arasındaki değerleri 500'e eşitleyin ve yeni oluşan array'i ekrana yazdırarak broadcasting işleminin yapılıp yapılmadığını test edin.\n",
        "\n",
        "arry = np.linspace(start=0, stop=50, num=51,  dtype=int)\n",
        "print(arry)\n",
        "\n",
        "arry[20:36] = 500\n",
        "print(arry)\n"
      ],
      "metadata": {
        "colab": {
          "base_uri": "https://localhost:8080/"
        },
        "id": "77WveFedlJto",
        "outputId": "f5c2c1c8-ce8a-4f60-de65-c0589ea5aaa1"
      },
      "execution_count": null,
      "outputs": [
        {
          "output_type": "stream",
          "name": "stdout",
          "text": [
            "[ 0  1  2  3  4  5  6  7  8  9 10 11 12 13 14 15 16 17 18 19 20 21 22 23\n",
            " 24 25 26 27 28 29 30 31 32 33 34 35 36 37 38 39 40 41 42 43 44 45 46 47\n",
            " 48 49 50]\n",
            "[  0   1   2   3   4   5   6   7   8   9  10  11  12  13  14  15  16  17\n",
            "  18  19 500 500 500 500 500 500 500 500 500 500 500 500 500 500 500 500\n",
            "  36  37  38  39  40  41  42  43  44  45  46  47  48  49  50]\n"
          ]
        }
      ]
    },
    {
      "cell_type": "markdown",
      "source": [
        "# Ödev 2"
      ],
      "metadata": {
        "id": "ItEuQOAh6Q-n"
      }
    },
    {
      "cell_type": "markdown",
      "source": [
        "1) 0-29 arası(29 dahil, toplam 30 tam sayı) tam sayılardan oluşan bir boyutlu bir array oluşturun ardından bu array'in shape'ini (15,2) şeklinde güncelleyip 2 boyutlu hale getirin.\n",
        "2) 60 adet rastgele tam sayı verilerinden oluşan bir boyutlu bir array oluşturun. Devamında bu array'i istediğiniz shapelerde 3 boyutlu hale getirin ve son durumda oluşan array'in boyutunu ve shape'ini kontrol edin.\n",
        "3) 20 elemanlı ve sadece rakamlardan oluşan iki boyutlu bir array oluşturun. Ardından bu array'i düzleştirin ve tek boyutlu hale getirin ve son durumda oluşan array'in boyutunu ve shape'ini kontrol edin.\n",
        "4) İstediğiniz herhangi elemanlardan oluşan 2 Boyutlu bir array oluşturun. Oluşturduğunuz bu 2 boyutlu array'in içindeki bütün elemanları hem yavaş yol olan for döngüsüyle hem de daha hızlı yol olan uygun NumPy metoduyla tek tek dönerek ekrana yazdırın.\n",
        "5) 5,10,15,20,25,30 değerlerinden oluşan bir boyutlu bir array ve\n",
        "   1,2,3,4,5,6 değerlerinden oluşan başka bir boyutlu bir array oluşturun.\n",
        "   Bu arraylerinin elemanlarına kendi aralarında 4 işlem uygulayın. İki arrayinde 1.indexindekiler toplansın/çıkartılsın/çarpılsın/bölünsün gibi.\n",
        "6) 0-100 arası rastgele 10 tam sayıdan oluşan bir array oluşturun ve oluşturulan arrayin sum/mean/max/var/std değerlerini inceleyin.\n",
        "7) 0-20 arası(20 dahil değil) tam sayılardan oluşan ve 500-530(530 dahil) arası tam sayılardan oluşan 2 array oluşturun. Ardından bu iki array'i concatenate ederek ekrana yazdırın.\n",
        "8) 15-50(50 dahil) arası tam sayılardan oluşan bir array oluşturun. Daha sonra 10-100 arası(100 dahil) tam sayılardan oluşan 2.bir array oluşturun. Bu 2 arrayi concatanate ederek 3.bir array oluşturun ve bu array'in 25.index ile 50.index'i(50 dahil) arasındaki değerlerini 888 yapın.\n",
        "9) 0-40(40 dahil değil) arası değerlerden oluşan (8,5) shape'inde 2 boyutlu bir array ve  320-360(360 dahil değil) değerlerinden oluşan (8,5) shape'inde 2 boyutlubaşka bir array oluşturun. Devamında bu iki array'i hem axis = 0'da hem de axis = 1'de concatenate ederek farkı karşılaştırın.\n",
        "10) 9.Soruda oluşturduğunuz 2 array'i axis = 2'de concatenate etmeye çalışın. Ardından axis = 2'de stacklemeye(yığınlamaya) çalışın. İkisi arasındaki farkı karşılaştırın.\n",
        "11) [1, 20, 25, 4, 4, 5, 4, 4, 1, 6, 9, 12, 1, 5] değerlerinden oluşan bir boyutlu bir array oluşturun. Devamında bu array'in içinde değeri 5'e eşit olan değerlerin indexleri bulun.\n",
        "12) Yukarıda oluşturduğunuz array içinde değeri çift olan değerlerin indexlerini bulun.\n",
        "13) Yukarıda oluşturduğunuz array içinde değeri 4'den büyük olan değerlerin indexlerini bulun.\n",
        "14) Yukarıda oluşturduğunuz array içinde değeri 5'e tam bölünen değerlerin indexlerini bulun.\n",
        "15) 85-100(100 dahil) arasından rastgele 1 tam sayı seçin\n",
        "16) İki basamaklı tam sayılar arasından rastgele sayılar seçerek (3,3) shape'inde bir array oluşturun.\n",
        "17) 35-60 arasındaki tam sayılardan bir array oluşturun, ardından bu array içinden rastgele 1 tam sayı seçin.\n",
        "18) Sadece [3, 8, 10, 53] değerlerinden oluşan (2,5) shape'inde 2 boyutlu bir array oluşturun."
      ],
      "metadata": {
        "id": "ITSM2jwoB0Gr"
      }
    },
    {
      "cell_type": "code",
      "source": [
        "# 1) 0-29 arası(29 dahil, toplam 30 tam sayı) tam sayılardan oluşan bir boyutlu bir array oluşturun ardından bu array'in shape'ini (15,2) şeklinde güncelleyip 2 boyutlu hale getirin. \n",
        "\n",
        "arry = np.linspace(start=0, stop=29, num=30,  dtype=int).reshape(15,2)\n",
        "print(arry)"
      ],
      "metadata": {
        "colab": {
          "base_uri": "https://localhost:8080/"
        },
        "id": "ABnbMvqQCAcE",
        "outputId": "7a4cc69c-7ee0-4b45-c1f7-fa3c9adf918b"
      },
      "execution_count": null,
      "outputs": [
        {
          "output_type": "stream",
          "name": "stdout",
          "text": [
            "[[ 0  1]\n",
            " [ 2  3]\n",
            " [ 4  5]\n",
            " [ 6  7]\n",
            " [ 8  9]\n",
            " [10 11]\n",
            " [12 13]\n",
            " [14 15]\n",
            " [16 17]\n",
            " [18 19]\n",
            " [20 21]\n",
            " [22 23]\n",
            " [24 25]\n",
            " [26 27]\n",
            " [28 29]]\n"
          ]
        }
      ]
    },
    {
      "cell_type": "code",
      "source": [
        "#2) 60 adet rastgele tam sayı verilerinden oluşan bir boyutlu bir array oluşturun. Devamında bu array'i istediğiniz shapelerde 3 boyutlu hale getirin ve son durumda oluşan array'in boyutunu ve shape'ini kontrol edin.\n",
        "\n",
        "arry = np.linspace(start=0, stop=59, num=60,  dtype=int).reshape(2,6,-1)\n",
        "print(arry.shape)\n",
        "print(arry.ndim)"
      ],
      "metadata": {
        "colab": {
          "base_uri": "https://localhost:8080/"
        },
        "id": "rTsXMAcGCuja",
        "outputId": "6f5947e5-68a5-45c5-9c56-1b1a427e8b9f"
      },
      "execution_count": null,
      "outputs": [
        {
          "output_type": "stream",
          "name": "stdout",
          "text": [
            "(2, 6, 5)\n",
            "3\n"
          ]
        }
      ]
    },
    {
      "cell_type": "code",
      "source": [
        "#3) 20 elemanlı ve sadece rakamlardan oluşan iki boyutlu bir array oluşturun. Ardından bu array'i düzleştirin ve tek boyutlu hale getirin ve son durumda oluşan array'in boyutunu ve shape'ini kontrol edin. \n",
        "\n",
        "arry = np.random.randint(low=0, high=2,size=(4,5) , dtype = int)\n",
        "arry.flatten\n",
        "print(arry)\n",
        "print(arry.shape)\n",
        "print(arry.ndim)"
      ],
      "metadata": {
        "colab": {
          "base_uri": "https://localhost:8080/"
        },
        "id": "QQEaeddADodp",
        "outputId": "47430ad3-d46a-48c1-89ab-1697ba9e3e1f"
      },
      "execution_count": null,
      "outputs": [
        {
          "output_type": "stream",
          "name": "stdout",
          "text": [
            "[[0 1 0 1 0]\n",
            " [1 0 0 1 1]\n",
            " [0 0 1 0 1]\n",
            " [1 1 1 0 1]]\n",
            "(4, 5)\n",
            "2\n"
          ]
        }
      ]
    },
    {
      "cell_type": "code",
      "source": [
        "#4) İstediğiniz herhangi elemanlardan oluşan 2 Boyutlu bir array oluşturun. Oluşturduğunuz bu 2 boyutlu array'in içindeki bütün elemanları hem yavaş yol olan for döngüsüyle hem de daha hızlı yol olan uygun NumPy metoduyla tek tek dönerek ekrana yazdırın. \n",
        "\n",
        "arry = np.random.randint(low=0, high=2, size=(4,5), dtype = int)\n",
        "print(arry)\n",
        "\n",
        "# with for loop\n",
        "for x in arry:\n",
        "  for y in x:\n",
        "    print(y)\n",
        "\n",
        "# with nditer\n",
        "for x in np.nditer(arry):\n",
        "  print(x)\n",
        "\n",
        "# with ndenumerate\n",
        "for idx, x in np.ndenumerate(arry):\n",
        "  print(idx, x)"
      ],
      "metadata": {
        "colab": {
          "base_uri": "https://localhost:8080/"
        },
        "id": "vrV6zgRAFjFw",
        "outputId": "70745618-c5a6-4500-b0e6-8e4596d58192"
      },
      "execution_count": null,
      "outputs": [
        {
          "output_type": "stream",
          "name": "stdout",
          "text": [
            "[[0 1 1 1 0]\n",
            " [1 1 0 1 1]\n",
            " [1 1 0 1 0]\n",
            " [0 0 1 1 0]]\n",
            "0\n",
            "1\n",
            "1\n",
            "1\n",
            "0\n",
            "1\n",
            "1\n",
            "0\n",
            "1\n",
            "1\n",
            "1\n",
            "1\n",
            "0\n",
            "1\n",
            "0\n",
            "0\n",
            "0\n",
            "1\n",
            "1\n",
            "0\n",
            "0\n",
            "1\n",
            "1\n",
            "1\n",
            "0\n",
            "1\n",
            "1\n",
            "0\n",
            "1\n",
            "1\n",
            "1\n",
            "1\n",
            "0\n",
            "1\n",
            "0\n",
            "0\n",
            "0\n",
            "1\n",
            "1\n",
            "0\n",
            "(0, 0) 0\n",
            "(0, 1) 1\n",
            "(0, 2) 1\n",
            "(0, 3) 1\n",
            "(0, 4) 0\n",
            "(1, 0) 1\n",
            "(1, 1) 1\n",
            "(1, 2) 0\n",
            "(1, 3) 1\n",
            "(1, 4) 1\n",
            "(2, 0) 1\n",
            "(2, 1) 1\n",
            "(2, 2) 0\n",
            "(2, 3) 1\n",
            "(2, 4) 0\n",
            "(3, 0) 0\n",
            "(3, 1) 0\n",
            "(3, 2) 1\n",
            "(3, 3) 1\n",
            "(3, 4) 0\n"
          ]
        }
      ]
    },
    {
      "cell_type": "code",
      "source": [
        "#5) 5,10,15,20,25,30 değerlerinden oluşan bir boyutlu bir array ve 1,2,3,4,5,6 değerlerinden oluşan başka bir boyutlu bir array oluşturun. Bu arraylerinin elemanlarına kendi aralarında 4 işlem uygulayın. İki arrayinde 1.indexindekiler toplansın/çıkartılsın/çarpılsın/bölünsün gibi. \n",
        "\n",
        "arry_1 = np.array([5,10,15,20,25,30])\n",
        "arry_2 = np.array([1,2,3,4,5,6])\n",
        "\n",
        "print(arry_1 + arry_2)\n",
        "print(arry_1 - arry_2)\n",
        "print(arry_1 * arry_2)\n",
        "print(arry_1 / arry_2)\n",
        "print(arry_1 ** arry_2)\n",
        "print(np.dot(arry_1,arry_2))\n",
        "\n",
        "boolean_array = arry_1 >= arry_2\n",
        "print(boolean_array)"
      ],
      "metadata": {
        "colab": {
          "base_uri": "https://localhost:8080/"
        },
        "id": "dTXiXH9SIx2p",
        "outputId": "d8ea8242-bbc7-4398-a0dd-572cf6ae9a58"
      },
      "execution_count": null,
      "outputs": [
        {
          "output_type": "stream",
          "name": "stdout",
          "text": [
            "[ 6 12 18 24 30 36]\n",
            "[ 4  8 12 16 20 24]\n",
            "[  5  20  45  80 125 180]\n",
            "[5. 5. 5. 5. 5. 5.]\n",
            "[        5       100      3375    160000   9765625 729000000]\n",
            "455\n",
            "[ True  True  True  True  True  True]\n"
          ]
        }
      ]
    },
    {
      "cell_type": "code",
      "source": [
        "#6) 0-100 arası rastgele 10 tam sayıdan oluşan bir array oluşturun ve oluşturulan arrayin sum/mean/max/var/std değerlerini inceleyin. \n",
        "\n",
        "arry = np.random.randint(low=0, high=101, size=(10), dtype = int)\n",
        "print(arry.sum())\n",
        "print(arry.min())\n",
        "print(arry.max())\n",
        "print(arry.mean())\n",
        "print(arry.var())\n",
        "print(arry.std())"
      ],
      "metadata": {
        "colab": {
          "base_uri": "https://localhost:8080/"
        },
        "id": "qEww_sAJNntK",
        "outputId": "e86d9352-b607-4931-9d92-9c44006581be"
      },
      "execution_count": null,
      "outputs": [
        {
          "output_type": "stream",
          "name": "stdout",
          "text": [
            "573\n",
            "7\n",
            "84\n",
            "57.3\n",
            "536.01\n",
            "23.151889771679546\n"
          ]
        }
      ]
    },
    {
      "cell_type": "code",
      "source": [
        "#7) 0-20 arası(20 dahil değil) tam sayılardan oluşan ve 500-530(530 dahil) arası tam sayılardan oluşan 2 array oluşturun. Ardından bu iki array'i concatenate ederek ekrana yazdırın. \n",
        "\n",
        "\n",
        "arry_1 = np.linspace(start=0, stop=19, num=(20), dtype=int)\n",
        "arry_2 = np.linspace(start=500, stop=530, num=31, dtype=int)\n",
        "\n",
        "print(np.concatenate((arry_1, arry_2), axis=0))"
      ],
      "metadata": {
        "colab": {
          "base_uri": "https://localhost:8080/"
        },
        "id": "XOVqgFC_NPtd",
        "outputId": "1f436061-8c2c-4ce1-e946-28b23393d384"
      },
      "execution_count": null,
      "outputs": [
        {
          "output_type": "stream",
          "name": "stdout",
          "text": [
            "[  0   1   2   3   4   5   6   7   8   9  10  11  12  13  14  15  16  17\n",
            "  18  19 500 501 502 503 504 505 506 507 508 509 510 511 512 513 514 515\n",
            " 516 517 518 519 520 521 522 523 524 525 526 527 528 529 530]\n"
          ]
        }
      ]
    },
    {
      "cell_type": "code",
      "source": [
        "#8) 15-50(50 dahil) arası tam sayılardan oluşan bir array oluşturun. Daha sonra 10-100 arası(100 dahil) tam sayılardan oluşan 2.bir array oluşturun. Bu 2 arrayi concatanate ederek 3.bir array oluşturun ve bu array'in 25.index ile 50.index'i(50 dahil) arasındaki değerlerini 888 yapın. \n",
        "\n",
        "arry_1 = np.arange(start=15, stop=51,  dtype=int)\n",
        "arry_2 = np.arange(start=10, stop=101, dtype=int)\n",
        "arry_3 = np.concatenate((arry_1, arry_2), axis=0)\n",
        "arry_3[25:51] = 888\n",
        "\n",
        "for idx, x in np.ndenumerate(arry_3):\n",
        "  print(idx, x)"
      ],
      "metadata": {
        "colab": {
          "base_uri": "https://localhost:8080/"
        },
        "id": "kjDpM5DPQ-mf",
        "outputId": "559016e2-b547-4225-b16e-ff71e978cfb8"
      },
      "execution_count": null,
      "outputs": [
        {
          "output_type": "stream",
          "name": "stdout",
          "text": [
            "(0,) 15\n",
            "(1,) 16\n",
            "(2,) 17\n",
            "(3,) 18\n",
            "(4,) 19\n",
            "(5,) 20\n",
            "(6,) 21\n",
            "(7,) 22\n",
            "(8,) 23\n",
            "(9,) 24\n",
            "(10,) 25\n",
            "(11,) 26\n",
            "(12,) 27\n",
            "(13,) 28\n",
            "(14,) 29\n",
            "(15,) 30\n",
            "(16,) 31\n",
            "(17,) 32\n",
            "(18,) 33\n",
            "(19,) 34\n",
            "(20,) 35\n",
            "(21,) 36\n",
            "(22,) 37\n",
            "(23,) 38\n",
            "(24,) 39\n",
            "(25,) 888\n",
            "(26,) 888\n",
            "(27,) 888\n",
            "(28,) 888\n",
            "(29,) 888\n",
            "(30,) 888\n",
            "(31,) 888\n",
            "(32,) 888\n",
            "(33,) 888\n",
            "(34,) 888\n",
            "(35,) 888\n",
            "(36,) 888\n",
            "(37,) 888\n",
            "(38,) 888\n",
            "(39,) 888\n",
            "(40,) 888\n",
            "(41,) 888\n",
            "(42,) 888\n",
            "(43,) 888\n",
            "(44,) 888\n",
            "(45,) 888\n",
            "(46,) 888\n",
            "(47,) 888\n",
            "(48,) 888\n",
            "(49,) 888\n",
            "(50,) 888\n",
            "(51,) 25\n",
            "(52,) 26\n",
            "(53,) 27\n",
            "(54,) 28\n",
            "(55,) 29\n",
            "(56,) 30\n",
            "(57,) 31\n",
            "(58,) 32\n",
            "(59,) 33\n",
            "(60,) 34\n",
            "(61,) 35\n",
            "(62,) 36\n",
            "(63,) 37\n",
            "(64,) 38\n",
            "(65,) 39\n",
            "(66,) 40\n",
            "(67,) 41\n",
            "(68,) 42\n",
            "(69,) 43\n",
            "(70,) 44\n",
            "(71,) 45\n",
            "(72,) 46\n",
            "(73,) 47\n",
            "(74,) 48\n",
            "(75,) 49\n",
            "(76,) 50\n",
            "(77,) 51\n",
            "(78,) 52\n",
            "(79,) 53\n",
            "(80,) 54\n",
            "(81,) 55\n",
            "(82,) 56\n",
            "(83,) 57\n",
            "(84,) 58\n",
            "(85,) 59\n",
            "(86,) 60\n",
            "(87,) 61\n",
            "(88,) 62\n",
            "(89,) 63\n",
            "(90,) 64\n",
            "(91,) 65\n",
            "(92,) 66\n",
            "(93,) 67\n",
            "(94,) 68\n",
            "(95,) 69\n",
            "(96,) 70\n",
            "(97,) 71\n",
            "(98,) 72\n",
            "(99,) 73\n",
            "(100,) 74\n",
            "(101,) 75\n",
            "(102,) 76\n",
            "(103,) 77\n",
            "(104,) 78\n",
            "(105,) 79\n",
            "(106,) 80\n",
            "(107,) 81\n",
            "(108,) 82\n",
            "(109,) 83\n",
            "(110,) 84\n",
            "(111,) 85\n",
            "(112,) 86\n",
            "(113,) 87\n",
            "(114,) 88\n",
            "(115,) 89\n",
            "(116,) 90\n",
            "(117,) 91\n",
            "(118,) 92\n",
            "(119,) 93\n",
            "(120,) 94\n",
            "(121,) 95\n",
            "(122,) 96\n",
            "(123,) 97\n",
            "(124,) 98\n",
            "(125,) 99\n",
            "(126,) 100\n"
          ]
        }
      ]
    },
    {
      "cell_type": "code",
      "source": [
        "#9) 0-40(40 dahil değil) arası değerlerden oluşan (8,5) shape'inde 2 boyutlu bir array ve 320-360(360 dahil değil) değerlerinden oluşan (8,5) shape'inde 2 boyutlubaşka bir array oluşturun. Devamında bu iki array'i hem axis = 0'da hem de axis = 1'de concatenate ederek farkı karşılaştırın. \n",
        "\n",
        "arry_1 = np.arange(start=0, stop=40,  dtype=int).reshape(8,5)\n",
        "arry_2 = np.arange(start=320, stop=360, dtype=int).reshape(8,5)\n",
        "arry_3 = np.concatenate((arry_1, arry_2), axis=0)\n",
        "arry_4 = np.concatenate((arry_1, arry_2), axis=1)\n",
        "\n",
        "print(arry_3.shape)\n",
        "print(\"\\n\")\n",
        "print(arry_4.shape)\n"
      ],
      "metadata": {
        "colab": {
          "base_uri": "https://localhost:8080/"
        },
        "id": "nZya505IWxwy",
        "outputId": "67ccb047-196f-461f-af1b-1fa769cb6a2d"
      },
      "execution_count": null,
      "outputs": [
        {
          "output_type": "stream",
          "name": "stdout",
          "text": [
            "(16, 5)\n",
            "\n",
            "\n",
            "(8, 10)\n"
          ]
        }
      ]
    },
    {
      "cell_type": "code",
      "source": [
        "#10) 9.Soruda oluşturduğunuz 2 array'i axis = 2'de concatenate etmeye çalışın. Ardından axis = 2'de stacklemeye(yığınlamaya) çalışın. İkisi arasındaki farkı karşılaştırın. \n",
        "\n",
        "#arry_5 = np.concatenate((arry_1, arry_2), axis=2)\n",
        "\n",
        "arry_5 = np.stack((arry_1, arry_2),axis=0)\n",
        "arry_6 = np.stack((arry_1, arry_2),axis=1)\n",
        "arry_7 = np.stack((arry_1, arry_2),axis=2)\n",
        "\n",
        "print(arry_5.shape)\n",
        "print(\"\\n\")\n",
        "print(arry_6.shape)\n",
        "print(\"\\n\")\n",
        "print(arry_7.shape)"
      ],
      "metadata": {
        "colab": {
          "base_uri": "https://localhost:8080/"
        },
        "id": "kXKobGm1WKEJ",
        "outputId": "9c93826b-8ba7-41e0-a168-df03626e46f1"
      },
      "execution_count": null,
      "outputs": [
        {
          "output_type": "stream",
          "name": "stdout",
          "text": [
            "(2, 8, 5)\n",
            "\n",
            "\n",
            "(8, 2, 5)\n",
            "\n",
            "\n",
            "(8, 5, 2)\n"
          ]
        }
      ]
    },
    {
      "cell_type": "code",
      "source": [
        "#11) [1, 20, 25, 4, 4, 5, 4, 4, 1, 6, 9, 12, 1, 5] değerlerinden oluşan bir boyutlu bir array oluşturun. Devamında bu array'in içinde değeri 5'e eşit olan değerlerin indexleri bulun. \n",
        "\n",
        "arry = np.array([1, 20, 25, 4, 4, 5, 4, 4, 1, 6, 9, 12, 1, 5])\n",
        "\n",
        "print(arry) \n",
        "print(\"All index value of 5 is: \", np.where(arry == 5)[0]) \n",
        "print(\"First index value of 5 is: \",np.where(arry == 5)[0][0])\n",
        "print(\"list: \", np.where(arry == 5))"
      ],
      "metadata": {
        "colab": {
          "base_uri": "https://localhost:8080/"
        },
        "id": "tHc--_HRbDDG",
        "outputId": "da89f239-7c07-44f8-8a44-b137365cdc35"
      },
      "execution_count": null,
      "outputs": [
        {
          "output_type": "stream",
          "name": "stdout",
          "text": [
            "[ 1 20 25  4  4  5  4  4  1  6  9 12  1  5]\n",
            "All index value of 5 is:  [ 5 13]\n",
            "First index value of 5 is:  5\n",
            "list:  (array([ 5, 13]),)\n"
          ]
        }
      ]
    },
    {
      "cell_type": "code",
      "source": [
        "#12) Yukarıda oluşturduğunuz array içinde değeri çift olan değerlerin indexlerini bulun. \n",
        "\n",
        "print(\"All index value of even numbers: \", np.where(arry % 2 == 0)[0]) "
      ],
      "metadata": {
        "colab": {
          "base_uri": "https://localhost:8080/"
        },
        "id": "CNlLvG-jjVQA",
        "outputId": "4ab9fc89-8514-4eb8-b05c-2d74a0015677"
      },
      "execution_count": null,
      "outputs": [
        {
          "output_type": "stream",
          "name": "stdout",
          "text": [
            "All index value of even numbers:  [ 1  3  4  6  7  9 11]\n"
          ]
        }
      ]
    },
    {
      "cell_type": "code",
      "source": [
        "#13) Yukarıda oluşturduğunuz array içinde değeri 4'den büyük olan değerlerin indexlerini bulun. \n",
        "\n",
        "print(\"All index value of even numbers: \", np.where(arry > 4)[0]) "
      ],
      "metadata": {
        "colab": {
          "base_uri": "https://localhost:8080/"
        },
        "id": "VL2whrdLkEms",
        "outputId": "3e9fdf09-4f7a-4aa3-e993-0dbb4464935e"
      },
      "execution_count": null,
      "outputs": [
        {
          "output_type": "stream",
          "name": "stdout",
          "text": [
            "All index value of even numbers:  [ 1  2  5  9 10 11 13]\n"
          ]
        }
      ]
    },
    {
      "cell_type": "code",
      "source": [
        "#14) Yukarıda oluşturduğunuz array içinde değeri 5'e tam bölünen değerlerin indexlerini bulun.\n",
        "\n",
        "print(\"All index value of numbers that divisible by 5 : \", np.where(arry // 5 == arry / 5)[0]) \n",
        "print(\"All index value of numbers that divisible by 5 : \", np.where(arry % 5 == 0)[0]) "
      ],
      "metadata": {
        "colab": {
          "base_uri": "https://localhost:8080/"
        },
        "id": "ZGA0JDlFkbjX",
        "outputId": "3a0b678b-5ecc-4e64-a44a-feecf292cabf"
      },
      "execution_count": null,
      "outputs": [
        {
          "output_type": "stream",
          "name": "stdout",
          "text": [
            "All index value of numbers that divisible by 5 :  [ 1  2  5 13]\n",
            "All index value of numbers that divisible by 5 :  [ 1  2  5 13]\n"
          ]
        }
      ]
    },
    {
      "cell_type": "code",
      "source": [
        "#15) 85-100(100 dahil) arasından rastgele 1 tam sayı seçin \n",
        "\n",
        "#with np.random.randint / array\n",
        "arry = np.random.randint(low=85, high=101, size=(1), dtype = int)\n",
        "\n",
        "#with np.random.uniform / float\n",
        "a = np.random.uniform(low=85, high=101, size=(1,))\n",
        "\n",
        "#with np.random.randint / number\n",
        "a = np.random.randint(85, 101)\n",
        "\n",
        "print(a)"
      ],
      "metadata": {
        "colab": {
          "base_uri": "https://localhost:8080/"
        },
        "id": "jxr8y1ZCmFPT",
        "outputId": "76145684-9ea3-4981-993b-0d9c4b059451"
      },
      "execution_count": null,
      "outputs": [
        {
          "output_type": "stream",
          "name": "stdout",
          "text": [
            "94\n"
          ]
        }
      ]
    },
    {
      "cell_type": "code",
      "source": [
        "#16) İki basamaklı tam sayılar arasından rastgele sayılar seçerek (3,3) shape'inde bir array oluşturun.\n",
        "\n",
        "arry = np.random.uniform(low=10, high=100, size=(3,3))\n",
        "print(arry)"
      ],
      "metadata": {
        "colab": {
          "base_uri": "https://localhost:8080/"
        },
        "id": "JouqJfVMn_P6",
        "outputId": "47abbf68-c617-4aa4-ad41-2a6141644a97"
      },
      "execution_count": null,
      "outputs": [
        {
          "output_type": "stream",
          "name": "stdout",
          "text": [
            "[[96.00922987 81.21647889 79.42436648]\n",
            " [98.65782748 55.49974345 78.05957369]\n",
            " [75.23926646 99.25497263 89.48873178]]\n"
          ]
        }
      ]
    },
    {
      "cell_type": "code",
      "source": [
        "#17) 35-60 arasındaki tam sayılardan bir array oluşturun, ardından bu array içinden rastgele 1 tam sayı seçin. \n",
        "\n",
        "arry = np.arange(start=35, stop=60, dtype=int)\n",
        "choices = np.arange(start=0, stop=len(arry), dtype=int)\n",
        "\n",
        "from random import randrange\n",
        "# get random index number\n",
        "i = randrange(len(arry))\n",
        "item = arry[i]\n",
        "# Select item using index number\n",
        "print(\"Randomly selected item\", arry[i], \"is present at index:\", i)\n",
        "\n",
        "a = np.random.choice(arry)\n",
        "print(a)"
      ],
      "metadata": {
        "colab": {
          "base_uri": "https://localhost:8080/"
        },
        "id": "Ijeo_NN3yTr1",
        "outputId": "06b806b7-a3fa-4416-8269-b048bf0077fd"
      },
      "execution_count": null,
      "outputs": [
        {
          "output_type": "stream",
          "name": "stdout",
          "text": [
            "Randomly selected item 44 is present at index: 9\n",
            "51\n"
          ]
        }
      ]
    },
    {
      "cell_type": "code",
      "source": [
        "#18) Sadece [3, 8, 10, 53] değerlerinden oluşan (2,5) shape'inde 2 boyutlu bir array oluşturun.\n",
        "\n",
        "choices = [3, 8, 10, 53]\n",
        "arry = np.random.choice(choices, replace = True, size = 10).reshape(2,5)\n",
        "print(arry)"
      ],
      "metadata": {
        "colab": {
          "base_uri": "https://localhost:8080/"
        },
        "id": "dEkmEaYiyTy-",
        "outputId": "cec1970d-88c2-4ae8-a3d9-1f268127971e"
      },
      "execution_count": null,
      "outputs": [
        {
          "output_type": "stream",
          "name": "stdout",
          "text": [
            "[[ 3 53 10  8  3]\n",
            " [ 8  3 53 53 10]]\n"
          ]
        }
      ]
    }
  ]
}