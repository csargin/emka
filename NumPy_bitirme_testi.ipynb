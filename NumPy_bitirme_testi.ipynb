{
  "cells": [
    {
      "cell_type": "markdown",
      "metadata": {
        "id": "sK-2SrBcCUjc"
      },
      "source": [
        "# NumPy Exercises\n",
        "\n",
        "Bu zamana kadar gördüğümüz konularla alakalı bilgilerimizi test edelim\n",
        "\n",
        "<div class=\"alert alert-danger\" style=\"margin: 10px\"><strong>Uyarı!</strong> Output'un üstündeki kod hücrelerini çalıştırmayın !, <br>Aksi takdirde notebooktaki cevap outputlarını kaybedebilirsiniz!</div>"
      ]
    },
    {
      "cell_type": "markdown",
      "metadata": {
        "id": "SBR6WlnpCUji"
      },
      "source": [
        "#### 1. NumPy kütüphanesi np kısaltması ile import edin"
      ]
    },
    {
      "cell_type": "code",
      "execution_count": null,
      "metadata": {
        "collapsed": true,
        "id": "FfxWUTFyCUjj"
      },
      "outputs": [],
      "source": [
        "import numpy as np"
      ]
    },
    {
      "cell_type": "markdown",
      "metadata": {
        "id": "4e4rAi4JCUjk"
      },
      "source": [
        "#### 2. 10 tane 0 değerinden oluşan bir array oluşturun"
      ]
    },
    {
      "cell_type": "code",
      "execution_count": null,
      "metadata": {
        "colab": {
          "base_uri": "https://localhost:8080/"
        },
        "id": "LcVpLKo1CUjk",
        "outputId": "c6aab6e2-c25e-487a-99b9-3e5eabeb2610"
      },
      "outputs": [
        {
          "data": {
            "text/plain": [
              "array([0., 0., 0., 0., 0., 0., 0., 0., 0., 0.])"
            ]
          },
          "execution_count": 59,
          "metadata": {},
          "output_type": "execute_result"
        }
      ],
      "source": [
        "# Kodlarını buraya yaz\n",
        "\n",
        "arry = np.linspace(start=0, stop=0, num=10,  dtype=float)\n",
        "arry"
      ]
    },
    {
      "cell_type": "code",
      "execution_count": null,
      "metadata": {
        "id": "LdpC9dJyCUjl",
        "outputId": "8473d366-e545-4f1c-b9a6-94c3f31cf750"
      },
      "outputs": [
        {
          "data": {
            "text/plain": [
              "array([0., 0., 0., 0., 0., 0., 0., 0., 0., 0.])"
            ]
          },
          "execution_count": 2,
          "metadata": {},
          "output_type": "execute_result"
        }
      ],
      "source": [
        "# Bu hücreye kod yazıp çalıştırma !"
      ]
    },
    {
      "cell_type": "markdown",
      "metadata": {
        "id": "0c1IHcHsCUjn"
      },
      "source": [
        "#### 3. 10 tane 1 değerinden oluşan bir array oluşturun"
      ]
    },
    {
      "cell_type": "code",
      "execution_count": null,
      "metadata": {
        "colab": {
          "base_uri": "https://localhost:8080/"
        },
        "id": "6JeuB_yLCUjn",
        "outputId": "13285916-7a81-4026-d670-833fca998bf2"
      },
      "outputs": [
        {
          "data": {
            "text/plain": [
              "array([1., 1., 1., 1., 1., 1., 1., 1., 1., 1.])"
            ]
          },
          "execution_count": 61,
          "metadata": {},
          "output_type": "execute_result"
        }
      ],
      "source": [
        "arry = np.linspace(start=1, stop=1, num=10,  dtype=float)\n",
        "arry"
      ]
    },
    {
      "cell_type": "code",
      "execution_count": null,
      "metadata": {
        "id": "y76jpSW8CUjo",
        "outputId": "4eec4196-b105-4917-ad41-8cd8c8e541d2"
      },
      "outputs": [
        {
          "data": {
            "text/plain": [
              "array([1., 1., 1., 1., 1., 1., 1., 1., 1., 1.])"
            ]
          },
          "execution_count": 3,
          "metadata": {},
          "output_type": "execute_result"
        }
      ],
      "source": [
        "# Bu hücreye kod yazıp çalıştırma !"
      ]
    },
    {
      "cell_type": "markdown",
      "metadata": {
        "id": "CQntsKVcCUjo"
      },
      "source": [
        "#### 4. 10 tane 5 değerinden oluşan bir array oluşturun"
      ]
    },
    {
      "cell_type": "code",
      "execution_count": null,
      "metadata": {
        "colab": {
          "base_uri": "https://localhost:8080/"
        },
        "id": "uX0pyVMlCUjp",
        "outputId": "972a80da-acad-4ab0-f8b5-36a8cc2d98ee"
      },
      "outputs": [
        {
          "data": {
            "text/plain": [
              "array([5., 5., 5., 5., 5., 5., 5., 5., 5., 5.])"
            ]
          },
          "execution_count": 63,
          "metadata": {},
          "output_type": "execute_result"
        }
      ],
      "source": [
        "arry = np.linspace(start=5, stop=5, num=10,  dtype=float)\n",
        "arry"
      ]
    },
    {
      "cell_type": "code",
      "execution_count": null,
      "metadata": {
        "id": "cnAJVhUQCUjp",
        "outputId": "f41eaec6-47ea-4088-cb21-db6d49b87d9a"
      },
      "outputs": [
        {
          "data": {
            "text/plain": [
              "array([5., 5., 5., 5., 5., 5., 5., 5., 5., 5.])"
            ]
          },
          "execution_count": 4,
          "metadata": {},
          "output_type": "execute_result"
        }
      ],
      "source": [
        "# Bu hücreye kod yazıp çalıştırma !"
      ]
    },
    {
      "cell_type": "markdown",
      "metadata": {
        "id": "V3M6sG4fCUjq"
      },
      "source": [
        "#### 5. 10'dan 50'ye kadar(10 ve 50 dahil) ardışık tam sayılardan oluşan bir array oluşturalım"
      ]
    },
    {
      "cell_type": "code",
      "execution_count": null,
      "metadata": {
        "colab": {
          "base_uri": "https://localhost:8080/"
        },
        "id": "uwFkpcO6CUjq",
        "outputId": "96482c2d-0fe7-4491-b2bf-5f041f2b7d9f"
      },
      "outputs": [
        {
          "data": {
            "text/plain": [
              "array([10, 11, 12, 13, 14, 15, 16, 17, 18, 19, 20, 21, 22, 23, 24, 25, 26,\n",
              "       27, 28, 29, 30, 31, 32, 33, 34, 35, 36, 37, 38, 39, 40, 41, 42, 43,\n",
              "       44, 45, 46, 47, 48, 49, 50])"
            ]
          },
          "execution_count": 64,
          "metadata": {},
          "output_type": "execute_result"
        }
      ],
      "source": [
        "arry = np.arange(start=10, stop=51,  dtype=int)\n",
        "arry"
      ]
    },
    {
      "cell_type": "code",
      "execution_count": null,
      "metadata": {
        "id": "A5TVkb4lCUjr",
        "outputId": "2a9c3b86-a956-4230-8344-601b7519e588"
      },
      "outputs": [
        {
          "data": {
            "text/plain": [
              "array([10, 11, 12, 13, 14, 15, 16, 17, 18, 19, 20, 21, 22, 23, 24, 25, 26,\n",
              "       27, 28, 29, 30, 31, 32, 33, 34, 35, 36, 37, 38, 39, 40, 41, 42, 43,\n",
              "       44, 45, 46, 47, 48, 49, 50])"
            ]
          },
          "execution_count": 5,
          "metadata": {},
          "output_type": "execute_result"
        }
      ],
      "source": [
        "# Bu hücreye kod yazıp çalıştırma !"
      ]
    },
    {
      "cell_type": "markdown",
      "metadata": {
        "id": "Nwt3hKlOCUjr"
      },
      "source": [
        "#### 6. 10 ve 50 arasındaki çift tam sayılardan oluşan bir array oluşturalım. (10 ve 50 dahil)"
      ]
    },
    {
      "cell_type": "code",
      "execution_count": null,
      "metadata": {
        "colab": {
          "base_uri": "https://localhost:8080/"
        },
        "id": "e26UimW8CUjr",
        "outputId": "3a5fd0dd-2cad-4a23-fd06-5b8f26b7f619"
      },
      "outputs": [
        {
          "data": {
            "text/plain": [
              "array([10, 12, 14, 16, 18, 20, 22, 24, 26, 28, 30, 32, 34, 36, 38, 40, 42,\n",
              "       44, 46, 48, 50])"
            ]
          },
          "execution_count": 65,
          "metadata": {},
          "output_type": "execute_result"
        }
      ],
      "source": [
        "arry = np.arange(start=10, stop=51,  dtype=int, step = 2)\n",
        "arry"
      ]
    },
    {
      "cell_type": "code",
      "execution_count": null,
      "metadata": {
        "id": "Q34BdTvHCUjr",
        "outputId": "dbccc89d-3678-4144-e993-af4d518e4551"
      },
      "outputs": [
        {
          "data": {
            "text/plain": [
              "array([10, 12, 14, 16, 18, 20, 22, 24, 26, 28, 30, 32, 34, 36, 38, 40, 42,\n",
              "       44, 46, 48, 50])"
            ]
          },
          "execution_count": 6,
          "metadata": {},
          "output_type": "execute_result"
        }
      ],
      "source": [
        "# Bu hücreye kod yazıp çalıştırma !"
      ]
    },
    {
      "cell_type": "markdown",
      "metadata": {
        "id": "4hqD5pzcCUjs"
      },
      "source": [
        "#### 7. 3x3 shape'inde 0'dan 8'e kadar toplam 9 tam sayıdan oluşan bir array oluşturalım"
      ]
    },
    {
      "cell_type": "code",
      "execution_count": null,
      "metadata": {
        "colab": {
          "base_uri": "https://localhost:8080/"
        },
        "id": "eFT7QUlpCUjs",
        "outputId": "931f5b24-89d8-461a-a915-e61bf5dae82e"
      },
      "outputs": [
        {
          "data": {
            "text/plain": [
              "array([[0, 1, 2],\n",
              "       [3, 4, 5],\n",
              "       [6, 7, 8]])"
            ]
          },
          "execution_count": 66,
          "metadata": {},
          "output_type": "execute_result"
        }
      ],
      "source": [
        "arry = np.arange(start=0, stop=9,  dtype=int, step = 1).reshape(3,3)\n",
        "arry"
      ]
    },
    {
      "cell_type": "code",
      "execution_count": null,
      "metadata": {
        "id": "0QoAazfpCUjs",
        "outputId": "e3f9c7bb-f0bb-4df9-a3f1-e29b71c2de93"
      },
      "outputs": [
        {
          "data": {
            "text/plain": [
              "array([[0, 1, 2],\n",
              "       [3, 4, 5],\n",
              "       [6, 7, 8]])"
            ]
          },
          "execution_count": 7,
          "metadata": {},
          "output_type": "execute_result"
        }
      ],
      "source": [
        "# Bu hücreye kod yazıp çalıştırma !"
      ]
    },
    {
      "cell_type": "markdown",
      "metadata": {
        "id": "A7-yZGDKCUjs"
      },
      "source": [
        "#### 8. 3x3 boyutlarında birim matris oluşturun"
      ]
    },
    {
      "cell_type": "code",
      "execution_count": null,
      "metadata": {
        "colab": {
          "base_uri": "https://localhost:8080/"
        },
        "id": "cMy3mlVNCUjt",
        "outputId": "c359da36-c830-41b3-9e62-a3ac791335d1"
      },
      "outputs": [
        {
          "data": {
            "text/plain": [
              "array([[1., 0., 0.],\n",
              "       [0., 1., 0.],\n",
              "       [0., 0., 1.]])"
            ]
          },
          "execution_count": 67,
          "metadata": {},
          "output_type": "execute_result"
        }
      ],
      "source": [
        "arry = np.identity(3)\n",
        "arry"
      ]
    },
    {
      "cell_type": "code",
      "execution_count": null,
      "metadata": {
        "id": "0cNs86VnCUjt",
        "outputId": "7cf33d51-7b80-4eec-e7fd-129335cd2a93"
      },
      "outputs": [
        {
          "data": {
            "text/plain": [
              "array([[1., 0., 0.],\n",
              "       [0., 1., 0.],\n",
              "       [0., 0., 1.]])"
            ]
          },
          "execution_count": 8,
          "metadata": {},
          "output_type": "execute_result"
        }
      ],
      "source": [
        "# Bu hücreye kod yazıp çalıştırma !"
      ]
    },
    {
      "cell_type": "markdown",
      "metadata": {
        "id": "thepVSM0CUjt"
      },
      "source": [
        "#### 9. NumPy kullanarak 0-1 arasından rastgele bir sayı oluşturun. <br><br>&emsp;NOT: Değerler random seçildiği için sizin sonucunuz aşağıdaki çıktıdan farklı olacaktır"
      ]
    },
    {
      "cell_type": "code",
      "execution_count": null,
      "metadata": {
        "colab": {
          "base_uri": "https://localhost:8080/"
        },
        "id": "iXeOvfs9CUjt",
        "outputId": "5c26ddb7-8ee7-4aec-fcf3-2330151125d9"
      },
      "outputs": [
        {
          "data": {
            "text/plain": [
              "array([0.96191672])"
            ]
          },
          "execution_count": 68,
          "metadata": {},
          "output_type": "execute_result"
        }
      ],
      "source": [
        "a = np.random.uniform(low=0, high=1, size=(1,))\n",
        "a"
      ]
    },
    {
      "cell_type": "code",
      "execution_count": null,
      "metadata": {
        "id": "8hOjbWjjCUju",
        "outputId": "923f6594-152c-4323-a352-80b710c3b80d"
      },
      "outputs": [
        {
          "data": {
            "text/plain": [
              "array([0.65248055])"
            ]
          },
          "execution_count": 9,
          "metadata": {},
          "output_type": "execute_result"
        }
      ],
      "source": [
        "# Bu hücreye kod yazıp çalıştırma !"
      ]
    },
    {
      "cell_type": "markdown",
      "metadata": {
        "id": "PddqiVFBCUju"
      },
      "source": [
        "#### 10. NumPy kullanarak standart dağılıma sahip 25 random sayıdan oluşan bir array oluşturalım. <br><br>&emsp;&ensp;NOT: Sizin cevabınız aşağıdaki çıktıdan farklı olacaktır"
      ]
    },
    {
      "cell_type": "code",
      "execution_count": null,
      "metadata": {
        "colab": {
          "base_uri": "https://localhost:8080/"
        },
        "id": "eaGY-6leCUju",
        "outputId": "4caa1c04-9ea6-4b60-8048-70609da7de69"
      },
      "outputs": [
        {
          "name": "stdout",
          "output_type": "stream",
          "text": [
            "[-1.60578597 -0.8354683  -0.52045605  1.03306731  1.06119802 -0.59579259\n",
            " -1.22579113 -0.8803668   0.68728049  0.79985327  0.32866556  1.03009694\n",
            " -0.00779616  0.85586246  0.95600841 -0.02913792  0.74906849  0.33026223\n",
            "  0.26981593  1.26110309 -0.30177345 -1.61458185 -0.9215656  -0.19154975\n",
            " -1.9280877 ]\n",
            "[ 0.5055937   0.71057843 -0.22351294 -1.54887877 -0.36541056 -0.5583167\n",
            "  1.07706626 -0.88972844 -0.41593849 -0.53300989  3.5393985  -0.69425791\n",
            " -1.16903175  1.47985646  1.05025588 -0.05584756  1.16036312 -0.29874144\n",
            "  0.95413226  0.13443636  1.40773479 -0.9141246  -1.10696922  0.51880246\n",
            "  1.38319175]\n"
          ]
        }
      ],
      "source": [
        "arry = np.random.normal(size=(25))\n",
        "print(arry)\n",
        "\n",
        "arry = np.random.standard_normal(size=(25))\n",
        "print(arry)"
      ]
    },
    {
      "cell_type": "code",
      "execution_count": null,
      "metadata": {
        "id": "CARMMuknCUju",
        "outputId": "826bca20-c95b-427f-e095-9372a9b1f7a6"
      },
      "outputs": [
        {
          "data": {
            "text/plain": [
              "array([ 1.80076712, -1.12375847, -0.98524305,  0.11673573,  1.96346762,\n",
              "        1.81378592, -0.33790771,  0.85012656,  0.0100703 , -0.91005957,\n",
              "        0.29064366,  0.69906357,  0.1774377 , -0.61958694, -0.45498611,\n",
              "       -2.0804685 , -0.06778549,  1.06403819,  0.4311884 , -1.09853837,\n",
              "        1.11980469, -0.48751963,  1.32517611, -0.61775122, -0.00622865])"
            ]
          },
          "execution_count": 10,
          "metadata": {},
          "output_type": "execute_result"
        }
      ],
      "source": [
        "# Bu hücreye kod yazıp çalıştırma !"
      ]
    },
    {
      "cell_type": "markdown",
      "metadata": {
        "id": "lIEzzxljCUjv"
      },
      "source": [
        "#### 11. Aşağıdaki çıktıdakine benzer array'i oluşturmaya çalışın"
      ]
    },
    {
      "cell_type": "code",
      "execution_count": null,
      "metadata": {
        "colab": {
          "base_uri": "https://localhost:8080/"
        },
        "id": "QiOXvcdbCUjv",
        "outputId": "7f9ec691-0a6c-4f0b-faf7-37cef1ca46ea"
      },
      "outputs": [
        {
          "data": {
            "text/plain": [
              "array([[0.01, 0.02, 0.03, 0.04, 0.05, 0.06, 0.07, 0.08, 0.09, 0.1 ],\n",
              "       [0.11, 0.12, 0.13, 0.14, 0.15, 0.16, 0.17, 0.18, 0.19, 0.2 ],\n",
              "       [0.21, 0.22, 0.23, 0.24, 0.25, 0.26, 0.27, 0.28, 0.29, 0.3 ],\n",
              "       [0.31, 0.32, 0.33, 0.34, 0.35, 0.36, 0.37, 0.38, 0.39, 0.4 ],\n",
              "       [0.41, 0.42, 0.43, 0.44, 0.45, 0.46, 0.47, 0.48, 0.49, 0.5 ],\n",
              "       [0.51, 0.52, 0.53, 0.54, 0.55, 0.56, 0.57, 0.58, 0.59, 0.6 ],\n",
              "       [0.61, 0.62, 0.63, 0.64, 0.65, 0.66, 0.67, 0.68, 0.69, 0.7 ],\n",
              "       [0.71, 0.72, 0.73, 0.74, 0.75, 0.76, 0.77, 0.78, 0.79, 0.8 ],\n",
              "       [0.81, 0.82, 0.83, 0.84, 0.85, 0.86, 0.87, 0.88, 0.89, 0.9 ],\n",
              "       [0.91, 0.92, 0.93, 0.94, 0.95, 0.96, 0.97, 0.98, 0.99, 1.  ]])"
            ]
          },
          "execution_count": 69,
          "metadata": {},
          "output_type": "execute_result"
        }
      ],
      "source": [
        "arry = np.linspace(start=0.01, stop=1, num=100,  dtype=float).reshape(10,10)\n",
        "arry"
      ]
    },
    {
      "cell_type": "code",
      "execution_count": null,
      "metadata": {
        "id": "WTcRg_YhCUjv",
        "outputId": "180c53ea-b9bb-4ab2-ce47-4802ab659697"
      },
      "outputs": [
        {
          "data": {
            "text/plain": [
              "array([[0.01, 0.02, 0.03, 0.04, 0.05, 0.06, 0.07, 0.08, 0.09, 0.1 ],\n",
              "       [0.11, 0.12, 0.13, 0.14, 0.15, 0.16, 0.17, 0.18, 0.19, 0.2 ],\n",
              "       [0.21, 0.22, 0.23, 0.24, 0.25, 0.26, 0.27, 0.28, 0.29, 0.3 ],\n",
              "       [0.31, 0.32, 0.33, 0.34, 0.35, 0.36, 0.37, 0.38, 0.39, 0.4 ],\n",
              "       [0.41, 0.42, 0.43, 0.44, 0.45, 0.46, 0.47, 0.48, 0.49, 0.5 ],\n",
              "       [0.51, 0.52, 0.53, 0.54, 0.55, 0.56, 0.57, 0.58, 0.59, 0.6 ],\n",
              "       [0.61, 0.62, 0.63, 0.64, 0.65, 0.66, 0.67, 0.68, 0.69, 0.7 ],\n",
              "       [0.71, 0.72, 0.73, 0.74, 0.75, 0.76, 0.77, 0.78, 0.79, 0.8 ],\n",
              "       [0.81, 0.82, 0.83, 0.84, 0.85, 0.86, 0.87, 0.88, 0.89, 0.9 ],\n",
              "       [0.91, 0.92, 0.93, 0.94, 0.95, 0.96, 0.97, 0.98, 0.99, 1.  ]])"
            ]
          },
          "execution_count": 11,
          "metadata": {},
          "output_type": "execute_result"
        }
      ],
      "source": [
        "# Bu hücreye kod yazıp çalıştırma !"
      ]
    },
    {
      "cell_type": "markdown",
      "metadata": {
        "id": "Tcnzc7ZcCUjv"
      },
      "source": [
        "#### 12. 0-1 arasında lineer artış gösteren ve 20 sayıdan oluşan bir array oluşturun:"
      ]
    },
    {
      "cell_type": "code",
      "execution_count": null,
      "metadata": {
        "colab": {
          "base_uri": "https://localhost:8080/"
        },
        "id": "5cl7TdqXCUjw",
        "outputId": "c9eae2de-5e7a-46a4-a13b-6794bdf3952b"
      },
      "outputs": [
        {
          "data": {
            "text/plain": [
              "array([0.        , 0.05263158, 0.10526316, 0.15789474, 0.21052632,\n",
              "       0.26315789, 0.31578947, 0.36842105, 0.42105263, 0.47368421,\n",
              "       0.52631579, 0.57894737, 0.63157895, 0.68421053, 0.73684211,\n",
              "       0.78947368, 0.84210526, 0.89473684, 0.94736842, 1.        ])"
            ]
          },
          "execution_count": 70,
          "metadata": {},
          "output_type": "execute_result"
        }
      ],
      "source": [
        "arry = np.linspace(start=0, stop=1, num=20,  dtype=float)\n",
        "arry"
      ]
    },
    {
      "cell_type": "code",
      "execution_count": null,
      "metadata": {
        "id": "YJbRjonHCUjw",
        "outputId": "b3be3a1a-2ac9-4501-975e-f924bad4f00a"
      },
      "outputs": [
        {
          "data": {
            "text/plain": [
              "array([0.        , 0.05263158, 0.10526316, 0.15789474, 0.21052632,\n",
              "       0.26315789, 0.31578947, 0.36842105, 0.42105263, 0.47368421,\n",
              "       0.52631579, 0.57894737, 0.63157895, 0.68421053, 0.73684211,\n",
              "       0.78947368, 0.84210526, 0.89473684, 0.94736842, 1.        ])"
            ]
          },
          "execution_count": 12,
          "metadata": {},
          "output_type": "execute_result"
        }
      ],
      "source": [
        "# Bu hücreye kod yazıp çalıştırma !"
      ]
    },
    {
      "cell_type": "markdown",
      "metadata": {
        "id": "Zjb0xEcBCUjx"
      },
      "source": [
        "## NumPy Indexing and Selection\n",
        "\n",
        "Aşağıdaki matris sıradaki sorular için bizim başlangıç matrisimiz. (Aşağıdaki kod hücresini çalıştırarak devam edin.), devamında sorduğumuz soruları cevaplamaya çalışın:\n"
      ]
    },
    {
      "cell_type": "code",
      "execution_count": null,
      "metadata": {
        "colab": {
          "base_uri": "https://localhost:8080/"
        },
        "id": "iGhILW1zCUjx",
        "outputId": "b31484cd-7d00-4a5f-83c6-4e638d426445"
      },
      "outputs": [
        {
          "data": {
            "text/plain": [
              "array([[ 1,  2,  3,  4,  5],\n",
              "       [ 6,  7,  8,  9, 10],\n",
              "       [11, 12, 13, 14, 15],\n",
              "       [16, 17, 18, 19, 20],\n",
              "       [21, 22, 23, 24, 25]])"
            ]
          },
          "execution_count": 41,
          "metadata": {},
          "output_type": "execute_result"
        }
      ],
      "source": [
        "# RUN THIS CELL - THIS IS OUR STARTING MATRIX\n",
        "mat = np.arange(1,26).reshape(5,5)\n",
        "mat"
      ]
    },
    {
      "cell_type": "markdown",
      "metadata": {
        "id": "o84wqYl8CUjx"
      },
      "source": [
        "#### 13. Aşağıda verilen matrisleri oluşturmaya çalışın.<br><br>&emsp;&ensp;Çıktıların üstündeki kod hücresini çalıştırmayın, aksi takdirde çıktıları göremezsiniz"
      ]
    },
    {
      "cell_type": "code",
      "execution_count": null,
      "metadata": {
        "colab": {
          "base_uri": "https://localhost:8080/"
        },
        "id": "HNnyqmStCUjy",
        "outputId": "690a3755-d7a6-4213-9cfc-42a635d24bde"
      },
      "outputs": [
        {
          "data": {
            "text/plain": [
              "array([[12, 13, 14, 15],\n",
              "       [17, 18, 19, 20],\n",
              "       [22, 23, 24, 25]])"
            ]
          },
          "execution_count": 71,
          "metadata": {},
          "output_type": "execute_result"
        }
      ],
      "source": [
        "# Kodlarınızı buraya yazın\n",
        "\n",
        "mat[2:5,1:5]"
      ]
    },
    {
      "cell_type": "code",
      "execution_count": null,
      "metadata": {
        "id": "c8ySamSwCUjy",
        "outputId": "bae1d225-a8fc-4619-bc17-5ef4edce5926"
      },
      "outputs": [
        {
          "data": {
            "text/plain": [
              "array([[12, 13, 14, 15],\n",
              "       [17, 18, 19, 20],\n",
              "       [22, 23, 24, 25]])"
            ]
          },
          "execution_count": 14,
          "metadata": {},
          "output_type": "execute_result"
        }
      ],
      "source": [
        "# Bu hücreye kod yazıp çalıştırma !"
      ]
    },
    {
      "cell_type": "markdown",
      "metadata": {
        "id": "vC7dDBM1CUjy"
      },
      "source": [
        "#### 14. Write code that reproduces the output shown below."
      ]
    },
    {
      "cell_type": "code",
      "execution_count": null,
      "metadata": {
        "colab": {
          "base_uri": "https://localhost:8080/"
        },
        "id": "b1ofQCaQCUjy",
        "outputId": "22a18cce-f18c-401c-a6bb-8d6e6dc2d4e3"
      },
      "outputs": [
        {
          "data": {
            "text/plain": [
              "20"
            ]
          },
          "execution_count": 72,
          "metadata": {},
          "output_type": "execute_result"
        }
      ],
      "source": [
        "mat[3][4]"
      ]
    },
    {
      "cell_type": "code",
      "execution_count": null,
      "metadata": {
        "id": "NWIU8p3dCUjy",
        "outputId": "2b4f237f-c56d-4f20-8f55-92d3872f8a2d"
      },
      "outputs": [
        {
          "data": {
            "text/plain": [
              "20"
            ]
          },
          "execution_count": 15,
          "metadata": {},
          "output_type": "execute_result"
        }
      ],
      "source": [
        "# Bu hücreye kod yazıp çalıştırma !"
      ]
    },
    {
      "cell_type": "markdown",
      "metadata": {
        "id": "jxJVgvd0CUjy"
      },
      "source": [
        "#### 15. mat arrayini kullanarak aşağıdaki matris çıktısını verecek kodları oluşturun"
      ]
    },
    {
      "cell_type": "code",
      "execution_count": null,
      "metadata": {
        "colab": {
          "base_uri": "https://localhost:8080/"
        },
        "id": "jSoturL1CUjz",
        "outputId": "261959b1-144c-4cf7-a3f5-b71af15bf03b"
      },
      "outputs": [
        {
          "data": {
            "text/plain": [
              "array([[ 2],\n",
              "       [ 7],\n",
              "       [12]])"
            ]
          },
          "execution_count": 73,
          "metadata": {},
          "output_type": "execute_result"
        }
      ],
      "source": [
        "mat[0:3,1:2]"
      ]
    },
    {
      "cell_type": "code",
      "execution_count": null,
      "metadata": {
        "id": "qpzVx7TNCUjz",
        "outputId": "30ff0734-5801-4fe3-df79-5be5826b8fe0"
      },
      "outputs": [
        {
          "data": {
            "text/plain": [
              "array([[ 2],\n",
              "       [ 7],\n",
              "       [12]])"
            ]
          },
          "execution_count": 16,
          "metadata": {},
          "output_type": "execute_result"
        }
      ],
      "source": [
        "# Bu hücreye kod yazıp çalıştırma !"
      ]
    },
    {
      "cell_type": "markdown",
      "metadata": {
        "id": "K7OQr2xGCUjz"
      },
      "source": [
        "#### 16. mat arrayini kullanarak aşağıdaki matris çıktısını verecek kodları oluşturun"
      ]
    },
    {
      "cell_type": "code",
      "execution_count": null,
      "metadata": {
        "colab": {
          "base_uri": "https://localhost:8080/"
        },
        "id": "q5yl6l-8CUjz",
        "outputId": "5d3b41e2-eb08-4a47-9f4d-c5dbfcb32325"
      },
      "outputs": [
        {
          "data": {
            "text/plain": [
              "array([21, 22, 23, 24, 25])"
            ]
          },
          "execution_count": 74,
          "metadata": {},
          "output_type": "execute_result"
        }
      ],
      "source": [
        "mat[4]"
      ]
    },
    {
      "cell_type": "code",
      "execution_count": null,
      "metadata": {
        "id": "ux5DsK-ZCUjz",
        "outputId": "ef73596d-c426-4768-f33f-f515b23a9aa9"
      },
      "outputs": [
        {
          "data": {
            "text/plain": [
              "array([21, 22, 23, 24, 25])"
            ]
          },
          "execution_count": 17,
          "metadata": {},
          "output_type": "execute_result"
        }
      ],
      "source": [
        "# Bu hücreye kod yazıp çalıştırma !"
      ]
    },
    {
      "cell_type": "markdown",
      "metadata": {
        "id": "wu6ABI8PCUjz"
      },
      "source": [
        "#### 17. mat arrayini kullanarak aşağıdaki matris çıktısını verecek kodları oluşturun"
      ]
    },
    {
      "cell_type": "code",
      "execution_count": null,
      "metadata": {
        "colab": {
          "background_save": true,
          "base_uri": "https://localhost:8080/"
        },
        "id": "TYl6bCz-CUjz",
        "outputId": "0a18f06c-31ba-4a25-e643-003bd869f55d"
      },
      "outputs": [
        {
          "data": {
            "text/plain": [
              "array([[16, 17, 18, 19, 20],\n",
              "       [21, 22, 23, 24, 25]])"
            ]
          },
          "execution_count": 79,
          "metadata": {},
          "output_type": "execute_result"
        }
      ],
      "source": [
        "mat[3:5,0:5]"
      ]
    },
    {
      "cell_type": "code",
      "execution_count": null,
      "metadata": {
        "id": "NHMLearJCUj0",
        "outputId": "a5a02a41-edaa-4b52-9dd7-c0af72e648d9"
      },
      "outputs": [
        {
          "data": {
            "text/plain": [
              "array([[16, 17, 18, 19, 20],\n",
              "       [21, 22, 23, 24, 25]])"
            ]
          },
          "execution_count": 18,
          "metadata": {},
          "output_type": "execute_result"
        }
      ],
      "source": [
        "# Bu hücreye kod yazıp çalıştırma !"
      ]
    },
    {
      "cell_type": "markdown",
      "metadata": {
        "id": "bqVR9Jx3CUj0"
      },
      "source": [
        "## NumPy Operations"
      ]
    },
    {
      "cell_type": "markdown",
      "metadata": {
        "id": "P0icFmJBCUj0"
      },
      "source": [
        "#### 18. Mat arrayindeki bütün değerlerin toplamını bulun"
      ]
    },
    {
      "cell_type": "code",
      "execution_count": null,
      "metadata": {
        "colab": {
          "background_save": true,
          "base_uri": "https://localhost:8080/"
        },
        "id": "9bOINcJqCUj0",
        "outputId": "3b34d9b8-3677-4f6f-ba06-517d2c796aea"
      },
      "outputs": [
        {
          "data": {
            "text/plain": [
              "325"
            ]
          },
          "execution_count": 78,
          "metadata": {},
          "output_type": "execute_result"
        }
      ],
      "source": [
        "mat.sum()"
      ]
    },
    {
      "cell_type": "code",
      "execution_count": null,
      "metadata": {
        "id": "V2Iul8wxCUj0",
        "outputId": "60167664-8444-4c3b-fc22-f12114024c00"
      },
      "outputs": [
        {
          "data": {
            "text/plain": [
              "325"
            ]
          },
          "execution_count": 19,
          "metadata": {},
          "output_type": "execute_result"
        }
      ],
      "source": [
        "# Bu hücreye kod yazıp çalıştırma !"
      ]
    },
    {
      "cell_type": "markdown",
      "metadata": {
        "id": "FBG0CRyuCUj0"
      },
      "source": [
        "#### 19. Mat arrayindeki değerlerin standart sapmasını bulun"
      ]
    },
    {
      "cell_type": "code",
      "execution_count": null,
      "metadata": {
        "colab": {
          "background_save": true,
          "base_uri": "https://localhost:8080/"
        },
        "id": "dZv7gS3UCUj1",
        "outputId": "0b5aa3d7-e42f-4f72-9751-bea06b1bf22f"
      },
      "outputs": [
        {
          "data": {
            "text/plain": [
              "7.211102550927978"
            ]
          },
          "execution_count": 77,
          "metadata": {},
          "output_type": "execute_result"
        }
      ],
      "source": [
        "mat.std()"
      ]
    },
    {
      "cell_type": "code",
      "execution_count": null,
      "metadata": {
        "id": "vI_5iqW-CUj1",
        "outputId": "dfbe1269-67c8-44ad-c189-3358005f8b68"
      },
      "outputs": [
        {
          "data": {
            "text/plain": [
              "7.211102550927978"
            ]
          },
          "execution_count": 20,
          "metadata": {},
          "output_type": "execute_result"
        }
      ],
      "source": [
        "# Bu hücreye kod yazıp çalıştırma !"
      ]
    },
    {
      "cell_type": "markdown",
      "metadata": {
        "id": "DIMitdwwCUj1"
      },
      "source": [
        "#### 20. Mat arrayindeki her sütunun kendi içinde toplamlarını bularak yeni bir array oluşturun"
      ]
    },
    {
      "cell_type": "code",
      "execution_count": 90,
      "metadata": {
        "id": "mTHJW-GJCUj1",
        "colab": {
          "base_uri": "https://localhost:8080/"
        },
        "outputId": "1bd17ace-935b-4faf-8c21-6d6a93fc1e63"
      },
      "outputs": [
        {
          "output_type": "execute_result",
          "data": {
            "text/plain": [
              "[55, 60, 65, 70, 75]"
            ]
          },
          "metadata": {},
          "execution_count": 90
        }
      ],
      "source": [
        "arry = []\n",
        "\n",
        "for i in np.transpose(mat):\n",
        "  arry.append(i.sum())\n",
        "\n",
        "arry"
      ]
    },
    {
      "cell_type": "code",
      "execution_count": null,
      "metadata": {
        "id": "Cm4XogzICUj1",
        "outputId": "91fa0ee2-8ccb-45f9-f295-3fbdfcb8a660"
      },
      "outputs": [
        {
          "data": {
            "text/plain": [
              "array([55, 60, 65, 70, 75])"
            ]
          },
          "execution_count": 21,
          "metadata": {},
          "output_type": "execute_result"
        }
      ],
      "source": [
        "# Bu hücreye kod yazıp çalıştırma !"
      ]
    },
    {
      "cell_type": "markdown",
      "metadata": {
        "collapsed": true,
        "id": "Kvip_AowCUj1"
      },
      "source": [
        "# Tebrikler, NumPy temelleri öğrenilmiş!"
      ]
    }
  ],
  "metadata": {
    "anaconda-cloud": {},
    "colab": {
      "provenance": []
    },
    "kernelspec": {
      "display_name": "Python 3",
      "language": "python",
      "name": "python3"
    },
    "language_info": {
      "codemirror_mode": {
        "name": "ipython",
        "version": 3
      },
      "file_extension": ".py",
      "mimetype": "text/x-python",
      "name": "python",
      "nbconvert_exporter": "python",
      "pygments_lexer": "ipython3",
      "version": "3.10.10"
    }
  },
  "nbformat": 4,
  "nbformat_minor": 0
}