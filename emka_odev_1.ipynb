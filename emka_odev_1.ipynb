{
  "nbformat": 4,
  "nbformat_minor": 0,
  "metadata": {
    "colab": {
      "provenance": []
    },
    "kernelspec": {
      "name": "python3",
      "display_name": "Python 3"
    },
    "language_info": {
      "name": "python"
    }
  },
  "cells": [
    {
      "cell_type": "markdown",
      "source": [
        "1) Manuel değerleri el ile girerek 3 boyutlu bir array oluşturup bir değişkene atayın. Ardından 3 boyutlu olup olmadığına bakmak için dimension'ını kontrol edin\n",
        "\n",
        "2) 34, 40, 46, 52... 112 şeklinde devam eden 1 boyutlu bir array oluşturun.\n",
        "\n",
        "3) 50-500 arasında lineer artış gösteren 91 tane tam sayıdan oluşan bir array oluşturun.(dtype'ı int olsun)\n",
        "\n",
        "4) 100(10**2) ile 10000(10**5) arasında logaritmik artış gösteren 8 sayıdan oluşan bir array oluşturun.\n",
        "\n",
        "5) 0-8 tam arasındaki ardışık tam sayılardan oluşan(0 ve 8 dahil toplam \n",
        "9 değer) 3x3 shape'inde bir matris oluşturun.\n",
        "\n",
        "6) 6x6 formatında bir sıfır matrisi oluşturun. (dtype'ı int olsun)\n",
        "\n",
        "7) 4x4 formatında bir bir matrisi oluşturun. (dtype'ı int olsun)\n",
        "\n",
        "8) 8x8 formatında bir birim matris oluşturun. (Sadece sol köşegeni 1 geri kalan değerleri 0 olan matris'e birim matris deniyor.) (dtype'ı int olsun)\n",
        "\n",
        "9) 5x5 formatında bir köşegen matrisi oluşturun (Sadece sol üstten sağ alta doğru olan köşegendeki değerleri 3 olsun diğer bütün değerleri 0) (Bunu henüz görmediniz ama birim matrise benziyor, sadece köşegen değerleri 1 değil 3 olacak. Bir şeyler düşünün)\n",
        "\n",
        "10) np.random modülünden uygun fonksiyonu kullanarak 0-1 arasında toplam 6 tane değerden oluşan 1 boyutlu bir array oluşturun.\n",
        "\n",
        "11) np.random modülünden uygun fonksiyonu kullanarak 50-100 arasındaki(50 ve 100 dahil) tam sayılardan 10 tanesiyle oluşan (5,2) shape'inde bir array oluşturun. Ardından bu arrayin shape'ini kontrol edin.\n",
        "\n",
        "12) np.random modülünden uygun fonksiyonu kullanarak 100-1000(1000 dahil değil) arasındaki tam sayılardan rastgele 50 tanesinden oluşan (2,5,5) shape'inde 3 boyutlu bir array oluşturun. Ardından bu array'in dimension'ını(boyutunu) ve shape'ini kontrol edin.\n",
        "\n",
        "13) np.random modülünden uygun fonksiyonu kullanarak 0-100(0 ve 100 dahil) arasındaki tam sayılardan 10 tane seçerek bir array oluşturun. Bu array'in maximum, mininmum değerlerine ve bu değerlerin indexlerine bakın.\n",
        "\n",
        "14) np.random modülünden uygun fonksiyonu kullanarak 300-500(300 ve 500 dahil) arasındaki tam sayılardan 20 tane seçerek (2,2,5) shape'inde 3 boyutlu bir array oluşturun. Ardından bu array'in içindeki 20 tam sayı arasından maximum ve minimum değerleri manuel olarak tespit edin ve indexleme yaparak çekmeye çalışın.\n",
        "\n",
        "15) 0-50(50 dahil) arasındaki ardışık tam sayılardan oluşan bir array oluşturun. Ardından bu arrayin 20. ve 35. indexleri arasındaki değerleri 500'e eşitleyin ve yeni oluşan array'i ekrana yazdırarak broadcasting işleminin yapılıp yapılmadığını test edin."
      ],
      "metadata": {
        "id": "h46bIa4oGXlJ"
      }
    },
    {
      "cell_type": "code",
      "source": [
        "import numpy as np"
      ],
      "metadata": {
        "id": "lN0DrSiuR1fN"
      },
      "execution_count": 6,
      "outputs": []
    },
    {
      "cell_type": "code",
      "source": [
        "# 1) Manuel değerleri el ile girerek 3 boyutlu bir array oluşturup bir değişkene atayın. Ardından 3 boyutlu olup olmadığına bakmak için dimension'ını kontrol edin\n",
        "\n",
        "arry = np.array([[[0,1,2],[3,4,5],[6,7,8]]])\n",
        "print(arry.ndim)\n",
        "print(arry.shape)"
      ],
      "metadata": {
        "colab": {
          "base_uri": "https://localhost:8080/"
        },
        "id": "huBAuoJxG1aX",
        "outputId": "d1550666-edb7-4281-abdd-26af4369f767"
      },
      "execution_count": 66,
      "outputs": [
        {
          "output_type": "stream",
          "name": "stdout",
          "text": [
            "3\n",
            "(1, 3, 3)\n"
          ]
        }
      ]
    },
    {
      "cell_type": "code",
      "source": [
        "# 2) 34, 40, 46, 52... 112 şeklinde devam eden 1 boyutlu bir array oluşturun.\n",
        "\n",
        "arry = np.arange(34,113,6)\n",
        "print(arry.ndim)\n",
        "print(arry.shape)"
      ],
      "metadata": {
        "colab": {
          "base_uri": "https://localhost:8080/"
        },
        "id": "d_fUensaRJ_I",
        "outputId": "6929fcf0-5bf8-40d8-da02-e0ba91f2b161"
      },
      "execution_count": 65,
      "outputs": [
        {
          "output_type": "stream",
          "name": "stdout",
          "text": [
            "1\n",
            "(14,)\n"
          ]
        }
      ]
    },
    {
      "cell_type": "code",
      "source": [
        "#3) 50-500 arasında lineer artış gösteren 91 tane tam sayıdan oluşan bir array oluşturun.(dtype'ı int olsun)\n",
        "\n",
        "arry = np.random.default_rng().integers(low=50, high=501, size=391)\n",
        "arry = np.linspace(start=50, stop=500, num=391,  dtype=int)\n",
        "print(arry.ndim)\n",
        "print(arry.shape)\n",
        "print(max(arry))\n",
        "print(min(arry))\n",
        "print(len(arry))"
      ],
      "metadata": {
        "colab": {
          "base_uri": "https://localhost:8080/"
        },
        "id": "k50GGK1oVVi6",
        "outputId": "014206cf-713b-4289-c77e-920690ad5d52"
      },
      "execution_count": 72,
      "outputs": [
        {
          "output_type": "stream",
          "name": "stdout",
          "text": [
            "1\n",
            "(391,)\n",
            "500\n",
            "50\n",
            "391\n"
          ]
        }
      ]
    },
    {
      "cell_type": "code",
      "source": [
        "# 4) 100(102) ile 10000(105) arasında logaritmik artış gösteren 8 sayıdan oluşan bir array oluşturun.\n",
        "\n",
        "arry = np.logspace(start=2, stop=4, num=8)\n",
        "print(arry.ndim)\n",
        "print(arry.shape)\n",
        "print(arry)\n",
        "print(len(arry))"
      ],
      "metadata": {
        "colab": {
          "base_uri": "https://localhost:8080/"
        },
        "id": "mvKOGv1haSd3",
        "outputId": "4632377d-e296-407b-f19a-8cb26c129ed7"
      },
      "execution_count": 62,
      "outputs": [
        {
          "output_type": "stream",
          "name": "stdout",
          "text": [
            "1\n",
            "(8,)\n",
            "[  100.           193.06977289   372.75937203   719.685673\n",
            "  1389.49549437  2682.69579528  5179.47467923 10000.        ]\n",
            "8\n"
          ]
        }
      ]
    },
    {
      "cell_type": "code",
      "source": [
        "# 5) 0-8 tam arasındaki ardışık tam sayılardan oluşan(0 ve 8 dahil toplam 9 değer) 3x3 shape'inde bir matris oluşturun.\n",
        "\n",
        "arry = np.linspace(start=0, stop=8, num=9,  dtype=int).reshape(3,3)\n",
        "print(arry.ndim)\n",
        "print(arry.shape)\n",
        "print(arry)"
      ],
      "metadata": {
        "colab": {
          "base_uri": "https://localhost:8080/"
        },
        "id": "Fr8wSciHcQVB",
        "outputId": "5f9f4843-ca76-48de-8c40-32e524ccba3a"
      },
      "execution_count": 63,
      "outputs": [
        {
          "output_type": "stream",
          "name": "stdout",
          "text": [
            "2\n",
            "(3, 3)\n",
            "[[0 1 2]\n",
            " [3 4 5]\n",
            " [6 7 8]]\n"
          ]
        }
      ]
    },
    {
      "cell_type": "code",
      "source": [
        "# 6x6 formatında bir sıfır matrisi oluşturun. (dtype'ı int olsun)\n",
        "\n",
        "arry = np.linspace(start=0, stop=35, num=36,  dtype=int).reshape(6,6)\n",
        "print(arry.ndim)\n",
        "print(arry.shape)\n",
        "print(arry)"
      ],
      "metadata": {
        "colab": {
          "base_uri": "https://localhost:8080/"
        },
        "id": "gelGiC4cdZje",
        "outputId": "855a3067-8f6b-408e-b27e-c89a27ca919a"
      },
      "execution_count": 67,
      "outputs": [
        {
          "output_type": "stream",
          "name": "stdout",
          "text": [
            "2\n",
            "(6, 6)\n",
            "[[ 0  1  2  3  4  5]\n",
            " [ 6  7  8  9 10 11]\n",
            " [12 13 14 15 16 17]\n",
            " [18 19 20 21 22 23]\n",
            " [24 25 26 27 28 29]\n",
            " [30 31 32 33 34 35]]\n"
          ]
        }
      ]
    },
    {
      "cell_type": "code",
      "source": [
        "# 7) 4x4 formatında bir bir matrisi oluşturun. (dtype'ı int olsun)\n",
        "\n",
        "arry = np.linspace(start=0, stop=15, num=16,  dtype=int).reshape(4,4)\n",
        "print(arry.ndim)\n",
        "print(arry.shape)\n",
        "print(arry)"
      ],
      "metadata": {
        "colab": {
          "base_uri": "https://localhost:8080/"
        },
        "id": "KghOmaOMd5-a",
        "outputId": "baa96fb0-c9dc-4fa5-b5c6-6cdeae66cea6"
      },
      "execution_count": 68,
      "outputs": [
        {
          "output_type": "stream",
          "name": "stdout",
          "text": [
            "2\n",
            "(4, 4)\n",
            "[[ 0  1  2  3]\n",
            " [ 4  5  6  7]\n",
            " [ 8  9 10 11]\n",
            " [12 13 14 15]]\n"
          ]
        }
      ]
    },
    {
      "cell_type": "code",
      "source": [
        "# 8) 8x8 formatında bir birim matris oluşturun. (Sadece sol köşegeni 1 geri kalan değerleri 0 olan matris'e birim matris deniyor.) (dtype'ı int olsun)\n",
        "\n",
        "arry = np.identity(8) #np.eye\n",
        "print(arry.ndim)\n",
        "print(arry.shape)\n",
        "print(arry)\n",
        "print(arry.dtype)\n",
        "arry = arry.astype(\"int\")\n",
        "print(arry.dtype)\n",
        "\n"
      ],
      "metadata": {
        "colab": {
          "base_uri": "https://localhost:8080/"
        },
        "id": "d7K3zVNueN3d",
        "outputId": "aaccac67-12ae-4afd-8a28-e50a9437197a"
      },
      "execution_count": 154,
      "outputs": [
        {
          "output_type": "stream",
          "name": "stdout",
          "text": [
            "2\n",
            "(8, 8)\n",
            "[[1. 0. 0. 0. 0. 0. 0. 0.]\n",
            " [0. 1. 0. 0. 0. 0. 0. 0.]\n",
            " [0. 0. 1. 0. 0. 0. 0. 0.]\n",
            " [0. 0. 0. 1. 0. 0. 0. 0.]\n",
            " [0. 0. 0. 0. 1. 0. 0. 0.]\n",
            " [0. 0. 0. 0. 0. 1. 0. 0.]\n",
            " [0. 0. 0. 0. 0. 0. 1. 0.]\n",
            " [0. 0. 0. 0. 0. 0. 0. 1.]]\n",
            "float64\n",
            "int64\n"
          ]
        }
      ]
    },
    {
      "cell_type": "code",
      "source": [
        "# 9) 5x5 formatında bir köşegen matrisi oluşturun (Sadece sol üstten sağ alta doğru olan köşegendeki değerleri 3 olsun diğer bütün değerleri 0) (Bunu henüz görmediniz ama birim matrise benziyor, sadece köşegen değerleri 1 değil 3 olacak. Bir şeyler düşünün)\n",
        "\n",
        "arry = np.identity(5) * 3\n",
        "print(arry.ndim)\n",
        "print(arry.shape)\n",
        "print(arry)"
      ],
      "metadata": {
        "colab": {
          "base_uri": "https://localhost:8080/"
        },
        "id": "6gCgSCucfIX5",
        "outputId": "60c31e6a-4e0d-42d0-aeea-09bf06eb9688"
      },
      "execution_count": 71,
      "outputs": [
        {
          "output_type": "stream",
          "name": "stdout",
          "text": [
            "2\n",
            "(5, 5)\n",
            "[[3. 0. 0. 0. 0.]\n",
            " [0. 3. 0. 0. 0.]\n",
            " [0. 0. 3. 0. 0.]\n",
            " [0. 0. 0. 3. 0.]\n",
            " [0. 0. 0. 0. 3.]]\n"
          ]
        }
      ]
    },
    {
      "cell_type": "code",
      "source": [
        "# 10) np.random modülünden uygun fonksiyonu kullanarak 0-1 arasında toplam 6 tane değerden oluşan 1 boyutlu bir array oluşturun.\n",
        "\n",
        "arry = np.random.rand(6)\n",
        "print(arry.ndim)\n",
        "print(arry.shape)\n",
        "print(max(arry))\n",
        "print(min(arry))\n",
        "print(len(arry))\n",
        "print(arry)"
      ],
      "metadata": {
        "colab": {
          "base_uri": "https://localhost:8080/"
        },
        "id": "FkdYS0-nfaFU",
        "outputId": "171690e3-0586-43e6-e008-187390b8c5ca"
      },
      "execution_count": 78,
      "outputs": [
        {
          "output_type": "stream",
          "name": "stdout",
          "text": [
            "1\n",
            "(6,)\n",
            "0.843976605340526\n",
            "0.16231986279834765\n",
            "6\n",
            "[0.75315407 0.16231986 0.72407545 0.6485388  0.41004062 0.84397661]\n"
          ]
        }
      ]
    },
    {
      "cell_type": "code",
      "source": [
        "# 11) np.random modülünden uygun fonksiyonu kullanarak 50-100 arasındaki(50 ve 100 dahil) tam sayılardan 10 tanesiyle oluşan (5,2) shape'inde bir array oluşturun. Ardından bu arrayin shape'ini kontrol edin.\n",
        "\n",
        "arry = np.random.rand(10).reshape(5,2)*50+50 # np.random.rand(5,2) / randint(50,100,10).reshape(5,2) / randint(50,100,(5,2))\n",
        "print(arry.ndim)\n",
        "print(arry.shape)\n",
        "print(arry)"
      ],
      "metadata": {
        "colab": {
          "base_uri": "https://localhost:8080/"
        },
        "id": "p8_fjNJthxHw",
        "outputId": "ea093271-0dde-4633-8196-bd33cbff1797"
      },
      "execution_count": 135,
      "outputs": [
        {
          "output_type": "stream",
          "name": "stdout",
          "text": [
            "2\n",
            "(5, 2)\n",
            "[[56.74523779 60.21579611]\n",
            " [66.29951856 52.97840433]\n",
            " [79.22895457 65.45300043]\n",
            " [84.12397576 73.24323125]\n",
            " [52.98369579 94.08575883]]\n"
          ]
        }
      ]
    },
    {
      "cell_type": "code",
      "source": [
        "#12) np.random modülünden uygun fonksiyonu kullanarak 100-1000(1000 dahil değil) arasındaki tam sayılardan rastgele 50 tanesinden oluşan (2,5,5) shape'inde 3 boyutlu bir array oluşturun. Ardından bu array'in dimension'ını(boyutunu) ve shape'ini kontrol edin.\n",
        "\n",
        "arry = np.random.rand(50).reshape(2,5,5)*1000+100\n",
        "print(arry.ndim)\n",
        "print(arry.shape)\n",
        "print(arry)"
      ],
      "metadata": {
        "colab": {
          "base_uri": "https://localhost:8080/"
        },
        "id": "3epZOBydjR4P",
        "outputId": "250d8b21-6796-4a07-f323-e1ba0a3f0e8e"
      },
      "execution_count": 94,
      "outputs": [
        {
          "output_type": "stream",
          "name": "stdout",
          "text": [
            "3\n",
            "(2, 5, 5)\n",
            "[[[1090.01496893  219.61264692 1022.51271027  732.52106212 1039.00478488]\n",
            "  [ 793.47468363  573.44397709  883.91024189  796.90840896  870.88541132]\n",
            "  [ 543.18683634  224.03949503  958.47113921  374.48046933  771.17870194]\n",
            "  [ 664.48706999  572.98887357  683.43314562  274.77459673  546.32152867]\n",
            "  [ 850.34405951  631.31079266  788.28344972  491.68527786  302.64231628]]\n",
            "\n",
            " [[1090.05657903  296.8903968   580.1178446   644.97720242  491.02428379]\n",
            "  [ 283.11528604  186.28931113  369.54969373  485.44366569  151.02170233]\n",
            "  [ 173.13653101  613.15097254  684.89766032  358.89774061  388.27556756]\n",
            "  [ 104.69965005  566.69586317  902.93535392 1002.73650828  876.59998856]\n",
            "  [ 237.98943743  661.36055996  942.59858392  850.66063215  282.52859726]]]\n"
          ]
        }
      ]
    },
    {
      "cell_type": "code",
      "source": [
        "# 13) np.random modülünden uygun fonksiyonu kullanarak 0-100(0 ve 100 dahil) arasındaki tam sayılardan 10 tane seçerek bir array oluşturun. Bu array'in maximum, mininmum değerlerine ve bu değerlerin indexlerine bakın.\n",
        "\n",
        "arry = np.random.default_rng().integers(low=0, high=101, size=10)\n",
        "print(arry.ndim)\n",
        "print(arry.shape)\n",
        "print(max(arry))\n",
        "print(min(arry))\n",
        "print(len(arry))"
      ],
      "metadata": {
        "colab": {
          "base_uri": "https://localhost:8080/"
        },
        "id": "j_5ZLHM8kK42",
        "outputId": "a72764d5-3866-410f-cbdd-18f0c9d382d8"
      },
      "execution_count": 98,
      "outputs": [
        {
          "output_type": "stream",
          "name": "stdout",
          "text": [
            "1\n",
            "(10,)\n",
            "94\n",
            "14\n",
            "10\n"
          ]
        }
      ]
    },
    {
      "cell_type": "code",
      "source": [
        "# 14) np.random modülünden uygun fonksiyonu kullanarak 300-500(300 ve 500 dahil) arasındaki tam sayılardan 20 tane seçerek (2,2,5) shape'inde 3 boyutlu bir array oluşturun. Ardından bu array'in içindeki 20 tam sayı arasından maximum ve minimum değerleri manuel olarak tespit edin ve indexleme yaparak çekmeye çalışın.\n",
        "\n",
        "arry = np.random.default_rng().integers(low=300, high=501, size=20).reshape(2,2,5)\n",
        "#print(arry.ndim)\n",
        "#print(arry.shape)\n",
        "print(arry)\n",
        "\n",
        "min=99999\n",
        "max = 0\n",
        "\n",
        "for i in arry:\n",
        "  for j in i:\n",
        "    for k in j:\n",
        "      if k > max:\n",
        "        max = k\n",
        "      if k < min:\n",
        "        min = k\n",
        "\n",
        "print(np.amin(arry))\n",
        "print(np.amax(arry))\n",
        "print(min)\n",
        "print(max)\n",
        "i_min == np.where(arry == min)\n",
        "i_max == np.where(arry == max)\n",
        "\n",
        "print(f\"index of min : {i_min}\")\n",
        "print(f\"index of max : {i_max}\")\n",
        "\n",
        "print(np.min(arry))\n",
        "print(np.max(arry))\n",
        "\n",
        "print(np.argmin(arry))\n",
        "print(np.argmax(arry))"
      ],
      "metadata": {
        "colab": {
          "base_uri": "https://localhost:8080/"
        },
        "id": "ZsC8m89plJiH",
        "outputId": "0ec4b7c8-a6e1-4507-b6a8-5b06a2893a06"
      },
      "execution_count": 148,
      "outputs": [
        {
          "output_type": "stream",
          "name": "stdout",
          "text": [
            "[[[350 363 366 461 321]\n",
            "  [453 494 414 351 467]]\n",
            "\n",
            " [[409 310 497 410 396]\n",
            "  [386 458 313 360 318]]]\n",
            "310\n",
            "497\n",
            "310\n",
            "497\n",
            "index of min : (array([1]), array([1]), array([1]))\n",
            "index of max : (array([0]), array([1]), array([1]))\n",
            "310\n",
            "497\n",
            "11\n",
            "12\n"
          ]
        }
      ]
    },
    {
      "cell_type": "code",
      "source": [
        "# 15) 0-50(50 dahil) arasındaki ardışık tam sayılardan oluşan bir array oluşturun. Ardından bu arrayin 20. ve 35. indexleri arasındaki değerleri 500'e eşitleyin ve yeni oluşan array'i ekrana yazdırarak broadcasting işleminin yapılıp yapılmadığını test edin.\n",
        "\n",
        "arry = np.linspace(start=0, stop=50, num=51,  dtype=int)\n",
        "print(arry)\n",
        "\n",
        "arry[20:36] = 500\n",
        "print(arry)\n"
      ],
      "metadata": {
        "colab": {
          "base_uri": "https://localhost:8080/"
        },
        "id": "77WveFedlJto",
        "outputId": "a93bc049-a0b7-4130-ed04-64a2298dfd83"
      },
      "execution_count": 131,
      "outputs": [
        {
          "output_type": "stream",
          "name": "stdout",
          "text": [
            "[ 0  1  2  3  4  5  6  7  8  9 10 11 12 13 14 15 16 17 18 19 20 21 22 23\n",
            " 24 25 26 27 28 29 30 31 32 33 34 35 36 37 38 39 40 41 42 43 44 45 46 47\n",
            " 48 49 50]\n",
            "[  0   1   2   3   4   5   6   7   8   9  10  11  12  13  14  15  16  17\n",
            "  18  19 500 500 500 500 500 500 500 500 500 500 500 500 500 500 500 500\n",
            "  36  37  38  39  40  41  42  43  44  45  46  47  48  49  50]\n"
          ]
        }
      ]
    }
  ]
}